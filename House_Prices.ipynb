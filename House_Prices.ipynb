{
  "nbformat": 4,
  "nbformat_minor": 0,
  "metadata": {
    "colab": {
      "provenance": [],
      "mount_file_id": "1OOOoXnPfGro0QPOURe-EPYGBouL5sMVS",
      "authorship_tag": "ABX9TyO0EIZvIIREGbaQ/UCXILId",
      "include_colab_link": true
    },
    "kernelspec": {
      "name": "python3",
      "display_name": "Python 3"
    },
    "language_info": {
      "name": "python"
    }
  },
  "cells": [
    {
      "cell_type": "markdown",
      "metadata": {
        "id": "view-in-github",
        "colab_type": "text"
      },
      "source": [
        "<a href=\"https://colab.research.google.com/github/andrerizzo/House-Pricing-with-ANN/blob/master/House_Prices.ipynb\" target=\"_parent\"><img src=\"https://colab.research.google.com/assets/colab-badge.svg\" alt=\"Open In Colab\"/></a>"
      ]
    },
    {
      "cell_type": "code",
      "source": [
        "# Import basic libraries\n",
        "import pandas as pd\n",
        "import numpy as np\n",
        "import seaborn as sns\n",
        "import matplotlib.pyplot as plt\n",
        "\n",
        "# Load dataset from local drive to Google Drive\n",
        "from google.colab import files\n",
        "\n",
        "# Read uploaded file\n",
        "import io\n",
        "\n",
        "# Create train and test datasets\n",
        "from sklearn.model_selection import train_test_split\n",
        "\n",
        "# Feature engineering - rescale observations\n",
        "from sklearn.preprocessing import MinMaxScaler\n",
        "\n",
        "# Regression metrics\n",
        "from sklearn.metrics import mean_squared_error, mean_absolute_error, explained_variance_score\n",
        "\n",
        "# Creates ANN\n",
        "from tensorflow.keras.models import Sequential\n",
        "from tensorflow.keras.layers import Dense\n",
        "\n",
        "# Load and save a trained model\n",
        "from tensorflow.keras.models import load_model"
      ],
      "metadata": {
        "id": "LwWU1IUBQTqZ"
      },
      "execution_count": 1,
      "outputs": []
    },
    {
      "cell_type": "markdown",
      "source": [
        "### Load dataset"
      ],
      "metadata": {
        "id": "5sIKD77z7o6P"
      }
    },
    {
      "cell_type": "code",
      "source": [
        "# Upload local file to Google Colab\n",
        "file = files.upload()"
      ],
      "metadata": {
        "colab": {
          "base_uri": "https://localhost:8080/",
          "height": 73
        },
        "id": "W_8t5iZ37k5H",
        "outputId": "909ae8ee-ac4b-41ba-adf7-efc2242941c3"
      },
      "execution_count": 2,
      "outputs": [
        {
          "output_type": "display_data",
          "data": {
            "text/plain": [
              "<IPython.core.display.HTML object>"
            ],
            "text/html": [
              "\n",
              "     <input type=\"file\" id=\"files-876f6893-e04b-42c6-aa59-3ef3dade2432\" name=\"files[]\" multiple disabled\n",
              "        style=\"border:none\" />\n",
              "     <output id=\"result-876f6893-e04b-42c6-aa59-3ef3dade2432\">\n",
              "      Upload widget is only available when the cell has been executed in the\n",
              "      current browser session. Please rerun this cell to enable.\n",
              "      </output>\n",
              "      <script>// Copyright 2017 Google LLC\n",
              "//\n",
              "// Licensed under the Apache License, Version 2.0 (the \"License\");\n",
              "// you may not use this file except in compliance with the License.\n",
              "// You may obtain a copy of the License at\n",
              "//\n",
              "//      http://www.apache.org/licenses/LICENSE-2.0\n",
              "//\n",
              "// Unless required by applicable law or agreed to in writing, software\n",
              "// distributed under the License is distributed on an \"AS IS\" BASIS,\n",
              "// WITHOUT WARRANTIES OR CONDITIONS OF ANY KIND, either express or implied.\n",
              "// See the License for the specific language governing permissions and\n",
              "// limitations under the License.\n",
              "\n",
              "/**\n",
              " * @fileoverview Helpers for google.colab Python module.\n",
              " */\n",
              "(function(scope) {\n",
              "function span(text, styleAttributes = {}) {\n",
              "  const element = document.createElement('span');\n",
              "  element.textContent = text;\n",
              "  for (const key of Object.keys(styleAttributes)) {\n",
              "    element.style[key] = styleAttributes[key];\n",
              "  }\n",
              "  return element;\n",
              "}\n",
              "\n",
              "// Max number of bytes which will be uploaded at a time.\n",
              "const MAX_PAYLOAD_SIZE = 100 * 1024;\n",
              "\n",
              "function _uploadFiles(inputId, outputId) {\n",
              "  const steps = uploadFilesStep(inputId, outputId);\n",
              "  const outputElement = document.getElementById(outputId);\n",
              "  // Cache steps on the outputElement to make it available for the next call\n",
              "  // to uploadFilesContinue from Python.\n",
              "  outputElement.steps = steps;\n",
              "\n",
              "  return _uploadFilesContinue(outputId);\n",
              "}\n",
              "\n",
              "// This is roughly an async generator (not supported in the browser yet),\n",
              "// where there are multiple asynchronous steps and the Python side is going\n",
              "// to poll for completion of each step.\n",
              "// This uses a Promise to block the python side on completion of each step,\n",
              "// then passes the result of the previous step as the input to the next step.\n",
              "function _uploadFilesContinue(outputId) {\n",
              "  const outputElement = document.getElementById(outputId);\n",
              "  const steps = outputElement.steps;\n",
              "\n",
              "  const next = steps.next(outputElement.lastPromiseValue);\n",
              "  return Promise.resolve(next.value.promise).then((value) => {\n",
              "    // Cache the last promise value to make it available to the next\n",
              "    // step of the generator.\n",
              "    outputElement.lastPromiseValue = value;\n",
              "    return next.value.response;\n",
              "  });\n",
              "}\n",
              "\n",
              "/**\n",
              " * Generator function which is called between each async step of the upload\n",
              " * process.\n",
              " * @param {string} inputId Element ID of the input file picker element.\n",
              " * @param {string} outputId Element ID of the output display.\n",
              " * @return {!Iterable<!Object>} Iterable of next steps.\n",
              " */\n",
              "function* uploadFilesStep(inputId, outputId) {\n",
              "  const inputElement = document.getElementById(inputId);\n",
              "  inputElement.disabled = false;\n",
              "\n",
              "  const outputElement = document.getElementById(outputId);\n",
              "  outputElement.innerHTML = '';\n",
              "\n",
              "  const pickedPromise = new Promise((resolve) => {\n",
              "    inputElement.addEventListener('change', (e) => {\n",
              "      resolve(e.target.files);\n",
              "    });\n",
              "  });\n",
              "\n",
              "  const cancel = document.createElement('button');\n",
              "  inputElement.parentElement.appendChild(cancel);\n",
              "  cancel.textContent = 'Cancel upload';\n",
              "  const cancelPromise = new Promise((resolve) => {\n",
              "    cancel.onclick = () => {\n",
              "      resolve(null);\n",
              "    };\n",
              "  });\n",
              "\n",
              "  // Wait for the user to pick the files.\n",
              "  const files = yield {\n",
              "    promise: Promise.race([pickedPromise, cancelPromise]),\n",
              "    response: {\n",
              "      action: 'starting',\n",
              "    }\n",
              "  };\n",
              "\n",
              "  cancel.remove();\n",
              "\n",
              "  // Disable the input element since further picks are not allowed.\n",
              "  inputElement.disabled = true;\n",
              "\n",
              "  if (!files) {\n",
              "    return {\n",
              "      response: {\n",
              "        action: 'complete',\n",
              "      }\n",
              "    };\n",
              "  }\n",
              "\n",
              "  for (const file of files) {\n",
              "    const li = document.createElement('li');\n",
              "    li.append(span(file.name, {fontWeight: 'bold'}));\n",
              "    li.append(span(\n",
              "        `(${file.type || 'n/a'}) - ${file.size} bytes, ` +\n",
              "        `last modified: ${\n",
              "            file.lastModifiedDate ? file.lastModifiedDate.toLocaleDateString() :\n",
              "                                    'n/a'} - `));\n",
              "    const percent = span('0% done');\n",
              "    li.appendChild(percent);\n",
              "\n",
              "    outputElement.appendChild(li);\n",
              "\n",
              "    const fileDataPromise = new Promise((resolve) => {\n",
              "      const reader = new FileReader();\n",
              "      reader.onload = (e) => {\n",
              "        resolve(e.target.result);\n",
              "      };\n",
              "      reader.readAsArrayBuffer(file);\n",
              "    });\n",
              "    // Wait for the data to be ready.\n",
              "    let fileData = yield {\n",
              "      promise: fileDataPromise,\n",
              "      response: {\n",
              "        action: 'continue',\n",
              "      }\n",
              "    };\n",
              "\n",
              "    // Use a chunked sending to avoid message size limits. See b/62115660.\n",
              "    let position = 0;\n",
              "    do {\n",
              "      const length = Math.min(fileData.byteLength - position, MAX_PAYLOAD_SIZE);\n",
              "      const chunk = new Uint8Array(fileData, position, length);\n",
              "      position += length;\n",
              "\n",
              "      const base64 = btoa(String.fromCharCode.apply(null, chunk));\n",
              "      yield {\n",
              "        response: {\n",
              "          action: 'append',\n",
              "          file: file.name,\n",
              "          data: base64,\n",
              "        },\n",
              "      };\n",
              "\n",
              "      let percentDone = fileData.byteLength === 0 ?\n",
              "          100 :\n",
              "          Math.round((position / fileData.byteLength) * 100);\n",
              "      percent.textContent = `${percentDone}% done`;\n",
              "\n",
              "    } while (position < fileData.byteLength);\n",
              "  }\n",
              "\n",
              "  // All done.\n",
              "  yield {\n",
              "    response: {\n",
              "      action: 'complete',\n",
              "    }\n",
              "  };\n",
              "}\n",
              "\n",
              "scope.google = scope.google || {};\n",
              "scope.google.colab = scope.google.colab || {};\n",
              "scope.google.colab._files = {\n",
              "  _uploadFiles,\n",
              "  _uploadFilesContinue,\n",
              "};\n",
              "})(self);\n",
              "</script> "
            ]
          },
          "metadata": {}
        },
        {
          "output_type": "stream",
          "name": "stdout",
          "text": [
            "Saving kc_house_data.csv to kc_house_data.csv\n"
          ]
        }
      ]
    },
    {
      "cell_type": "code",
      "source": [
        "df = pd.read_csv(io.BytesIO(file['kc_house_data.csv']))"
      ],
      "metadata": {
        "id": "NmXoUNj3_IUI"
      },
      "execution_count": 3,
      "outputs": []
    },
    {
      "cell_type": "markdown",
      "source": [
        "### Exploratory Data Analysis"
      ],
      "metadata": {
        "id": "FCS5pGmI-KTa"
      }
    },
    {
      "cell_type": "markdown",
      "source": [
        "### Feature Description  \n",
        "**Id:** Unique Id for each house sold.  \n",
        "**Date:**\tDate of house sale.  \n",
        "**price:**\tHouse sale price.  \n",
        "**bedrooms:**\tNumber of bedrooms.  \n",
        "**bathrooms:** Number of bathrooms, where .5 accounts for a bathroom with a toilet but no shower.  \n",
        "**sqft_living:**\tSquare footage of interior living space of the house.  \n",
        "**sqft_lot:**\tLand area in square feet.  \n",
        "**floors:**\tNumber of floors.  \n",
        "**waterfront:**\tLabel to indicate whether the house was with waterfront or not.  \n",
        "**view:**\tLabels from 0 to 4 to indicate the view of house.  \n",
        "**condition:**\tLabels from 1 to 5 to indicate the condition of the house.  \n",
        "**grade:**\tLabels from 1 to 13 to indicate the quality levels of construction and design, with 1 to 3 falls in the lowest level, 7 in the average label, and 11-13 in the highest quality level.  \n",
        "**sqft_above:**\tAbove ground level interior housing space in square feet.  \n",
        "**sqft_basement:**\tBelow ground level interior housing space in square feet.  \n",
        "**yr_built:**\tThe year of construction of the house ranging from 1900 to 2015.  \n",
        "**yr_renovated:**\tThe year of last renovation of the house ranging from 1934 to 2015.  \n",
        "**zipcode:**\tZipcode area of the house.  \n",
        "**lat:**\tLatitude  \n",
        "**long:**\tLongitude  \n",
        "**sqft_living15:**\tThe interior living space in square feet for the nearest 15 neighbors.  \n",
        "**sqft_lot15:**\tThe land area in square feet for the nearest 15 neighbors.  "
      ],
      "metadata": {
        "id": "0elC7VXhfNpF"
      }
    },
    {
      "cell_type": "code",
      "source": [
        "# Check the first 5 observations\n",
        "df.head()"
      ],
      "metadata": {
        "colab": {
          "base_uri": "https://localhost:8080/",
          "height": 236
        },
        "id": "1TH9tJ7zCVqG",
        "outputId": "7fcc56b9-e709-40a9-ae75-1cf70d75b1f7"
      },
      "execution_count": 4,
      "outputs": [
        {
          "output_type": "execute_result",
          "data": {
            "text/plain": [
              "           id        date     price  bedrooms  bathrooms  sqft_living  \\\n",
              "0  7129300520  10/13/2014  221900.0         3       1.00         1180   \n",
              "1  6414100192   12/9/2014  538000.0         3       2.25         2570   \n",
              "2  5631500400   2/25/2015  180000.0         2       1.00          770   \n",
              "3  2487200875   12/9/2014  604000.0         4       3.00         1960   \n",
              "4  1954400510   2/18/2015  510000.0         3       2.00         1680   \n",
              "\n",
              "   sqft_lot  floors  waterfront  view  ...  grade  sqft_above  sqft_basement  \\\n",
              "0      5650     1.0           0     0  ...      7        1180              0   \n",
              "1      7242     2.0           0     0  ...      7        2170            400   \n",
              "2     10000     1.0           0     0  ...      6         770              0   \n",
              "3      5000     1.0           0     0  ...      7        1050            910   \n",
              "4      8080     1.0           0     0  ...      8        1680              0   \n",
              "\n",
              "   yr_built  yr_renovated  zipcode      lat     long  sqft_living15  \\\n",
              "0      1955             0    98178  47.5112 -122.257           1340   \n",
              "1      1951          1991    98125  47.7210 -122.319           1690   \n",
              "2      1933             0    98028  47.7379 -122.233           2720   \n",
              "3      1965             0    98136  47.5208 -122.393           1360   \n",
              "4      1987             0    98074  47.6168 -122.045           1800   \n",
              "\n",
              "   sqft_lot15  \n",
              "0        5650  \n",
              "1        7639  \n",
              "2        8062  \n",
              "3        5000  \n",
              "4        7503  \n",
              "\n",
              "[5 rows x 21 columns]"
            ],
            "text/html": [
              "\n",
              "  <div id=\"df-634d570a-6a4d-4038-8a08-d7e4c0b6fb10\" class=\"colab-df-container\">\n",
              "    <div>\n",
              "<style scoped>\n",
              "    .dataframe tbody tr th:only-of-type {\n",
              "        vertical-align: middle;\n",
              "    }\n",
              "\n",
              "    .dataframe tbody tr th {\n",
              "        vertical-align: top;\n",
              "    }\n",
              "\n",
              "    .dataframe thead th {\n",
              "        text-align: right;\n",
              "    }\n",
              "</style>\n",
              "<table border=\"1\" class=\"dataframe\">\n",
              "  <thead>\n",
              "    <tr style=\"text-align: right;\">\n",
              "      <th></th>\n",
              "      <th>id</th>\n",
              "      <th>date</th>\n",
              "      <th>price</th>\n",
              "      <th>bedrooms</th>\n",
              "      <th>bathrooms</th>\n",
              "      <th>sqft_living</th>\n",
              "      <th>sqft_lot</th>\n",
              "      <th>floors</th>\n",
              "      <th>waterfront</th>\n",
              "      <th>view</th>\n",
              "      <th>...</th>\n",
              "      <th>grade</th>\n",
              "      <th>sqft_above</th>\n",
              "      <th>sqft_basement</th>\n",
              "      <th>yr_built</th>\n",
              "      <th>yr_renovated</th>\n",
              "      <th>zipcode</th>\n",
              "      <th>lat</th>\n",
              "      <th>long</th>\n",
              "      <th>sqft_living15</th>\n",
              "      <th>sqft_lot15</th>\n",
              "    </tr>\n",
              "  </thead>\n",
              "  <tbody>\n",
              "    <tr>\n",
              "      <th>0</th>\n",
              "      <td>7129300520</td>\n",
              "      <td>10/13/2014</td>\n",
              "      <td>221900.0</td>\n",
              "      <td>3</td>\n",
              "      <td>1.00</td>\n",
              "      <td>1180</td>\n",
              "      <td>5650</td>\n",
              "      <td>1.0</td>\n",
              "      <td>0</td>\n",
              "      <td>0</td>\n",
              "      <td>...</td>\n",
              "      <td>7</td>\n",
              "      <td>1180</td>\n",
              "      <td>0</td>\n",
              "      <td>1955</td>\n",
              "      <td>0</td>\n",
              "      <td>98178</td>\n",
              "      <td>47.5112</td>\n",
              "      <td>-122.257</td>\n",
              "      <td>1340</td>\n",
              "      <td>5650</td>\n",
              "    </tr>\n",
              "    <tr>\n",
              "      <th>1</th>\n",
              "      <td>6414100192</td>\n",
              "      <td>12/9/2014</td>\n",
              "      <td>538000.0</td>\n",
              "      <td>3</td>\n",
              "      <td>2.25</td>\n",
              "      <td>2570</td>\n",
              "      <td>7242</td>\n",
              "      <td>2.0</td>\n",
              "      <td>0</td>\n",
              "      <td>0</td>\n",
              "      <td>...</td>\n",
              "      <td>7</td>\n",
              "      <td>2170</td>\n",
              "      <td>400</td>\n",
              "      <td>1951</td>\n",
              "      <td>1991</td>\n",
              "      <td>98125</td>\n",
              "      <td>47.7210</td>\n",
              "      <td>-122.319</td>\n",
              "      <td>1690</td>\n",
              "      <td>7639</td>\n",
              "    </tr>\n",
              "    <tr>\n",
              "      <th>2</th>\n",
              "      <td>5631500400</td>\n",
              "      <td>2/25/2015</td>\n",
              "      <td>180000.0</td>\n",
              "      <td>2</td>\n",
              "      <td>1.00</td>\n",
              "      <td>770</td>\n",
              "      <td>10000</td>\n",
              "      <td>1.0</td>\n",
              "      <td>0</td>\n",
              "      <td>0</td>\n",
              "      <td>...</td>\n",
              "      <td>6</td>\n",
              "      <td>770</td>\n",
              "      <td>0</td>\n",
              "      <td>1933</td>\n",
              "      <td>0</td>\n",
              "      <td>98028</td>\n",
              "      <td>47.7379</td>\n",
              "      <td>-122.233</td>\n",
              "      <td>2720</td>\n",
              "      <td>8062</td>\n",
              "    </tr>\n",
              "    <tr>\n",
              "      <th>3</th>\n",
              "      <td>2487200875</td>\n",
              "      <td>12/9/2014</td>\n",
              "      <td>604000.0</td>\n",
              "      <td>4</td>\n",
              "      <td>3.00</td>\n",
              "      <td>1960</td>\n",
              "      <td>5000</td>\n",
              "      <td>1.0</td>\n",
              "      <td>0</td>\n",
              "      <td>0</td>\n",
              "      <td>...</td>\n",
              "      <td>7</td>\n",
              "      <td>1050</td>\n",
              "      <td>910</td>\n",
              "      <td>1965</td>\n",
              "      <td>0</td>\n",
              "      <td>98136</td>\n",
              "      <td>47.5208</td>\n",
              "      <td>-122.393</td>\n",
              "      <td>1360</td>\n",
              "      <td>5000</td>\n",
              "    </tr>\n",
              "    <tr>\n",
              "      <th>4</th>\n",
              "      <td>1954400510</td>\n",
              "      <td>2/18/2015</td>\n",
              "      <td>510000.0</td>\n",
              "      <td>3</td>\n",
              "      <td>2.00</td>\n",
              "      <td>1680</td>\n",
              "      <td>8080</td>\n",
              "      <td>1.0</td>\n",
              "      <td>0</td>\n",
              "      <td>0</td>\n",
              "      <td>...</td>\n",
              "      <td>8</td>\n",
              "      <td>1680</td>\n",
              "      <td>0</td>\n",
              "      <td>1987</td>\n",
              "      <td>0</td>\n",
              "      <td>98074</td>\n",
              "      <td>47.6168</td>\n",
              "      <td>-122.045</td>\n",
              "      <td>1800</td>\n",
              "      <td>7503</td>\n",
              "    </tr>\n",
              "  </tbody>\n",
              "</table>\n",
              "<p>5 rows × 21 columns</p>\n",
              "</div>\n",
              "    <div class=\"colab-df-buttons\">\n",
              "\n",
              "  <div class=\"colab-df-container\">\n",
              "    <button class=\"colab-df-convert\" onclick=\"convertToInteractive('df-634d570a-6a4d-4038-8a08-d7e4c0b6fb10')\"\n",
              "            title=\"Convert this dataframe to an interactive table.\"\n",
              "            style=\"display:none;\">\n",
              "\n",
              "  <svg xmlns=\"http://www.w3.org/2000/svg\" height=\"24px\" viewBox=\"0 -960 960 960\">\n",
              "    <path d=\"M120-120v-720h720v720H120Zm60-500h600v-160H180v160Zm220 220h160v-160H400v160Zm0 220h160v-160H400v160ZM180-400h160v-160H180v160Zm440 0h160v-160H620v160ZM180-180h160v-160H180v160Zm440 0h160v-160H620v160Z\"/>\n",
              "  </svg>\n",
              "    </button>\n",
              "\n",
              "  <style>\n",
              "    .colab-df-container {\n",
              "      display:flex;\n",
              "      gap: 12px;\n",
              "    }\n",
              "\n",
              "    .colab-df-convert {\n",
              "      background-color: #E8F0FE;\n",
              "      border: none;\n",
              "      border-radius: 50%;\n",
              "      cursor: pointer;\n",
              "      display: none;\n",
              "      fill: #1967D2;\n",
              "      height: 32px;\n",
              "      padding: 0 0 0 0;\n",
              "      width: 32px;\n",
              "    }\n",
              "\n",
              "    .colab-df-convert:hover {\n",
              "      background-color: #E2EBFA;\n",
              "      box-shadow: 0px 1px 2px rgba(60, 64, 67, 0.3), 0px 1px 3px 1px rgba(60, 64, 67, 0.15);\n",
              "      fill: #174EA6;\n",
              "    }\n",
              "\n",
              "    .colab-df-buttons div {\n",
              "      margin-bottom: 4px;\n",
              "    }\n",
              "\n",
              "    [theme=dark] .colab-df-convert {\n",
              "      background-color: #3B4455;\n",
              "      fill: #D2E3FC;\n",
              "    }\n",
              "\n",
              "    [theme=dark] .colab-df-convert:hover {\n",
              "      background-color: #434B5C;\n",
              "      box-shadow: 0px 1px 3px 1px rgba(0, 0, 0, 0.15);\n",
              "      filter: drop-shadow(0px 1px 2px rgba(0, 0, 0, 0.3));\n",
              "      fill: #FFFFFF;\n",
              "    }\n",
              "  </style>\n",
              "\n",
              "    <script>\n",
              "      const buttonEl =\n",
              "        document.querySelector('#df-634d570a-6a4d-4038-8a08-d7e4c0b6fb10 button.colab-df-convert');\n",
              "      buttonEl.style.display =\n",
              "        google.colab.kernel.accessAllowed ? 'block' : 'none';\n",
              "\n",
              "      async function convertToInteractive(key) {\n",
              "        const element = document.querySelector('#df-634d570a-6a4d-4038-8a08-d7e4c0b6fb10');\n",
              "        const dataTable =\n",
              "          await google.colab.kernel.invokeFunction('convertToInteractive',\n",
              "                                                    [key], {});\n",
              "        if (!dataTable) return;\n",
              "\n",
              "        const docLinkHtml = 'Like what you see? Visit the ' +\n",
              "          '<a target=\"_blank\" href=https://colab.research.google.com/notebooks/data_table.ipynb>data table notebook</a>'\n",
              "          + ' to learn more about interactive tables.';\n",
              "        element.innerHTML = '';\n",
              "        dataTable['output_type'] = 'display_data';\n",
              "        await google.colab.output.renderOutput(dataTable, element);\n",
              "        const docLink = document.createElement('div');\n",
              "        docLink.innerHTML = docLinkHtml;\n",
              "        element.appendChild(docLink);\n",
              "      }\n",
              "    </script>\n",
              "  </div>\n",
              "\n",
              "\n",
              "<div id=\"df-60233467-8c24-476d-930a-1d3d87fe6ecb\">\n",
              "  <button class=\"colab-df-quickchart\" onclick=\"quickchart('df-60233467-8c24-476d-930a-1d3d87fe6ecb')\"\n",
              "            title=\"Suggest charts\"\n",
              "            style=\"display:none;\">\n",
              "\n",
              "<svg xmlns=\"http://www.w3.org/2000/svg\" height=\"24px\"viewBox=\"0 0 24 24\"\n",
              "     width=\"24px\">\n",
              "    <g>\n",
              "        <path d=\"M19 3H5c-1.1 0-2 .9-2 2v14c0 1.1.9 2 2 2h14c1.1 0 2-.9 2-2V5c0-1.1-.9-2-2-2zM9 17H7v-7h2v7zm4 0h-2V7h2v10zm4 0h-2v-4h2v4z\"/>\n",
              "    </g>\n",
              "</svg>\n",
              "  </button>\n",
              "\n",
              "<style>\n",
              "  .colab-df-quickchart {\n",
              "      --bg-color: #E8F0FE;\n",
              "      --fill-color: #1967D2;\n",
              "      --hover-bg-color: #E2EBFA;\n",
              "      --hover-fill-color: #174EA6;\n",
              "      --disabled-fill-color: #AAA;\n",
              "      --disabled-bg-color: #DDD;\n",
              "  }\n",
              "\n",
              "  [theme=dark] .colab-df-quickchart {\n",
              "      --bg-color: #3B4455;\n",
              "      --fill-color: #D2E3FC;\n",
              "      --hover-bg-color: #434B5C;\n",
              "      --hover-fill-color: #FFFFFF;\n",
              "      --disabled-bg-color: #3B4455;\n",
              "      --disabled-fill-color: #666;\n",
              "  }\n",
              "\n",
              "  .colab-df-quickchart {\n",
              "    background-color: var(--bg-color);\n",
              "    border: none;\n",
              "    border-radius: 50%;\n",
              "    cursor: pointer;\n",
              "    display: none;\n",
              "    fill: var(--fill-color);\n",
              "    height: 32px;\n",
              "    padding: 0;\n",
              "    width: 32px;\n",
              "  }\n",
              "\n",
              "  .colab-df-quickchart:hover {\n",
              "    background-color: var(--hover-bg-color);\n",
              "    box-shadow: 0 1px 2px rgba(60, 64, 67, 0.3), 0 1px 3px 1px rgba(60, 64, 67, 0.15);\n",
              "    fill: var(--button-hover-fill-color);\n",
              "  }\n",
              "\n",
              "  .colab-df-quickchart-complete:disabled,\n",
              "  .colab-df-quickchart-complete:disabled:hover {\n",
              "    background-color: var(--disabled-bg-color);\n",
              "    fill: var(--disabled-fill-color);\n",
              "    box-shadow: none;\n",
              "  }\n",
              "\n",
              "  .colab-df-spinner {\n",
              "    border: 2px solid var(--fill-color);\n",
              "    border-color: transparent;\n",
              "    border-bottom-color: var(--fill-color);\n",
              "    animation:\n",
              "      spin 1s steps(1) infinite;\n",
              "  }\n",
              "\n",
              "  @keyframes spin {\n",
              "    0% {\n",
              "      border-color: transparent;\n",
              "      border-bottom-color: var(--fill-color);\n",
              "      border-left-color: var(--fill-color);\n",
              "    }\n",
              "    20% {\n",
              "      border-color: transparent;\n",
              "      border-left-color: var(--fill-color);\n",
              "      border-top-color: var(--fill-color);\n",
              "    }\n",
              "    30% {\n",
              "      border-color: transparent;\n",
              "      border-left-color: var(--fill-color);\n",
              "      border-top-color: var(--fill-color);\n",
              "      border-right-color: var(--fill-color);\n",
              "    }\n",
              "    40% {\n",
              "      border-color: transparent;\n",
              "      border-right-color: var(--fill-color);\n",
              "      border-top-color: var(--fill-color);\n",
              "    }\n",
              "    60% {\n",
              "      border-color: transparent;\n",
              "      border-right-color: var(--fill-color);\n",
              "    }\n",
              "    80% {\n",
              "      border-color: transparent;\n",
              "      border-right-color: var(--fill-color);\n",
              "      border-bottom-color: var(--fill-color);\n",
              "    }\n",
              "    90% {\n",
              "      border-color: transparent;\n",
              "      border-bottom-color: var(--fill-color);\n",
              "    }\n",
              "  }\n",
              "</style>\n",
              "\n",
              "  <script>\n",
              "    async function quickchart(key) {\n",
              "      const quickchartButtonEl =\n",
              "        document.querySelector('#' + key + ' button');\n",
              "      quickchartButtonEl.disabled = true;  // To prevent multiple clicks.\n",
              "      quickchartButtonEl.classList.add('colab-df-spinner');\n",
              "      try {\n",
              "        const charts = await google.colab.kernel.invokeFunction(\n",
              "            'suggestCharts', [key], {});\n",
              "      } catch (error) {\n",
              "        console.error('Error during call to suggestCharts:', error);\n",
              "      }\n",
              "      quickchartButtonEl.classList.remove('colab-df-spinner');\n",
              "      quickchartButtonEl.classList.add('colab-df-quickchart-complete');\n",
              "    }\n",
              "    (() => {\n",
              "      let quickchartButtonEl =\n",
              "        document.querySelector('#df-60233467-8c24-476d-930a-1d3d87fe6ecb button');\n",
              "      quickchartButtonEl.style.display =\n",
              "        google.colab.kernel.accessAllowed ? 'block' : 'none';\n",
              "    })();\n",
              "  </script>\n",
              "</div>\n",
              "\n",
              "    </div>\n",
              "  </div>\n"
            ],
            "application/vnd.google.colaboratory.intrinsic+json": {
              "type": "dataframe",
              "variable_name": "df"
            }
          },
          "metadata": {},
          "execution_count": 4
        }
      ]
    },
    {
      "cell_type": "code",
      "source": [
        "# Analyse feature types\n",
        "df.info()"
      ],
      "metadata": {
        "colab": {
          "base_uri": "https://localhost:8080/"
        },
        "id": "ombyCnllDxhN",
        "outputId": "1a9e949b-9ccd-4756-988f-59fa2f8549e3"
      },
      "execution_count": 5,
      "outputs": [
        {
          "output_type": "stream",
          "name": "stdout",
          "text": [
            "<class 'pandas.core.frame.DataFrame'>\n",
            "RangeIndex: 21597 entries, 0 to 21596\n",
            "Data columns (total 21 columns):\n",
            " #   Column         Non-Null Count  Dtype  \n",
            "---  ------         --------------  -----  \n",
            " 0   id             21597 non-null  int64  \n",
            " 1   date           21597 non-null  object \n",
            " 2   price          21597 non-null  float64\n",
            " 3   bedrooms       21597 non-null  int64  \n",
            " 4   bathrooms      21597 non-null  float64\n",
            " 5   sqft_living    21597 non-null  int64  \n",
            " 6   sqft_lot       21597 non-null  int64  \n",
            " 7   floors         21597 non-null  float64\n",
            " 8   waterfront     21597 non-null  int64  \n",
            " 9   view           21597 non-null  int64  \n",
            " 10  condition      21597 non-null  int64  \n",
            " 11  grade          21597 non-null  int64  \n",
            " 12  sqft_above     21597 non-null  int64  \n",
            " 13  sqft_basement  21597 non-null  int64  \n",
            " 14  yr_built       21597 non-null  int64  \n",
            " 15  yr_renovated   21597 non-null  int64  \n",
            " 16  zipcode        21597 non-null  int64  \n",
            " 17  lat            21597 non-null  float64\n",
            " 18  long           21597 non-null  float64\n",
            " 19  sqft_living15  21597 non-null  int64  \n",
            " 20  sqft_lot15     21597 non-null  int64  \n",
            "dtypes: float64(5), int64(15), object(1)\n",
            "memory usage: 3.5+ MB\n"
          ]
        }
      ]
    },
    {
      "cell_type": "markdown",
      "source": [
        "Observations:  \n",
        "\n",
        "\n",
        "*   Id: Remove label.\n",
        "*   Date: Remove label.\n",
        "*   floors: Change to integer.\n",
        "*   waterfront: ordinal\n",
        "*   condition: ordinal\n",
        "*   grade: ordinal\n",
        "*   zipcode: string\n",
        "\n",
        "\n"
      ],
      "metadata": {
        "id": "Z6F1otS6B6az"
      }
    },
    {
      "cell_type": "code",
      "source": [
        "# Remove Id\n",
        "df = df.drop('id', axis=1)"
      ],
      "metadata": {
        "id": "fIUsa5C80oaj"
      },
      "execution_count": 6,
      "outputs": []
    },
    {
      "cell_type": "code",
      "source": [
        "# Remove Date\n",
        "df = df.drop('date', axis=1)"
      ],
      "metadata": {
        "id": "6dmHYvR5VYgT"
      },
      "execution_count": 7,
      "outputs": []
    },
    {
      "cell_type": "code",
      "source": [
        "# Change zipcode to object\n",
        "df['zipcode'] = df['zipcode'].astype(object)"
      ],
      "metadata": {
        "id": "HVpjtwYy1iUQ"
      },
      "execution_count": 8,
      "outputs": []
    },
    {
      "cell_type": "code",
      "source": [
        "# Calculate measures only for the numerical features on the dataset without scientific notation\n",
        "\n",
        "numerical_features = df.select_dtypes(include=['int64', 'float64'])\n",
        "\n",
        "count_values = pd.DataFrame(numerical_features.count())\n",
        "count_values.columns = ['Count']\n",
        "\n",
        "null_values = pd.DataFrame(numerical_features.isnull().sum())\n",
        "null_values.columns = ['Null']\n",
        "\n",
        "mean_values = pd.DataFrame(numerical_features.mean())\n",
        "mean_values.columns = ['Mean']\n",
        "mean_values['Mean'] = mean_values['Mean'].apply(lambda x: \"{:.4f}\".format(x))\n",
        "\n",
        "median_values = pd.DataFrame(numerical_features.median())\n",
        "median_values.columns = ['Median']\n",
        "median_values['Median'] = median_values['Median'].apply(lambda x: \"{:.2f}\".format(x))\n",
        "\n",
        "min_values = pd.DataFrame(numerical_features.min())\n",
        "min_values.columns = ['Min']\n",
        "min_values['Min'] = min_values['Min'].apply(lambda x: \"{:.2f}\".format(x))\n",
        "\n",
        "max_values = pd.DataFrame(numerical_features.max())\n",
        "max_values.columns = ['Max']\n",
        "max_values['Max'] = max_values['Max'].apply(lambda x: \"{:.2f}\".format(x))\n",
        "\n",
        "range_values = pd.DataFrame(numerical_features.max() - numerical_features.min())\n",
        "range_values.columns = ['Range']\n",
        "range_values['Range'] = range_values['Range'].apply(lambda x: \"{:.2f}\".format(x))\n",
        "\n",
        "std_values = pd.DataFrame(numerical_features.std())\n",
        "std_values.columns = ['Std']\n",
        "std_values['Std'] = std_values['Std'].apply(lambda x: \"{:.2f}\".format(x))\n",
        "\n",
        "assimetry_values = pd.DataFrame(numerical_features.skew())\n",
        "assimetry_values.columns = ['Skewness']\n",
        "assimetry_values['Skewness'] = assimetry_values['Skewness'].apply(lambda x: \"{:.4f}\".format(x))\n",
        "\n",
        "kurtosis_values = pd.DataFrame(numerical_features.kurtosis())\n",
        "kurtosis_values.columns = ['Kurtosis']\n",
        "kurtosis_values['Kurtosis'] = kurtosis_values['Kurtosis'].apply(lambda x: \"{:.4f}\".format(x))\n",
        "\n",
        "pd.concat([count_values, null_values, mean_values, median_values, min_values, max_values,\n",
        "           range_values, std_values, assimetry_values, kurtosis_values], axis=1)"
      ],
      "metadata": {
        "colab": {
          "base_uri": "https://localhost:8080/",
          "height": 614
        },
        "id": "uqqjgr6dEQYS",
        "outputId": "571caaba-a532-4717-8127-31c57f4c7cf1"
      },
      "execution_count": 9,
      "outputs": [
        {
          "output_type": "execute_result",
          "data": {
            "text/plain": [
              "               Count  Null         Mean     Median       Min         Max  \\\n",
              "price          21597     0  540296.5735  450000.00  78000.00  7700000.00   \n",
              "bedrooms       21597     0       3.3732       3.00      1.00       33.00   \n",
              "bathrooms      21597     0       2.1158       2.25      0.50        8.00   \n",
              "sqft_living    21597     0    2080.3219    1910.00    370.00    13540.00   \n",
              "sqft_lot       21597     0   15099.4088    7618.00    520.00  1651359.00   \n",
              "floors         21597     0       1.4941       1.50      1.00        3.50   \n",
              "waterfront     21597     0       0.0075       0.00      0.00        1.00   \n",
              "view           21597     0       0.2343       0.00      0.00        4.00   \n",
              "condition      21597     0       3.4098       3.00      1.00        5.00   \n",
              "grade          21597     0       7.6579       7.00      3.00       13.00   \n",
              "sqft_above     21597     0    1788.5968    1560.00    370.00     9410.00   \n",
              "sqft_basement  21597     0     291.7250       0.00      0.00     4820.00   \n",
              "yr_built       21597     0    1970.9997    1975.00   1900.00     2015.00   \n",
              "yr_renovated   21597     0      84.4648       0.00      0.00     2015.00   \n",
              "lat            21597     0      47.5601      47.57     47.16       47.78   \n",
              "long           21597     0    -122.2140    -122.23   -122.52     -121.31   \n",
              "sqft_living15  21597     0    1986.6203    1840.00    399.00     6210.00   \n",
              "sqft_lot15     21597     0   12758.2835    7620.00    651.00   871200.00   \n",
              "\n",
              "                    Range        Std Skewness  Kurtosis  \n",
              "price          7622000.00  367368.14   4.0234   34.5414  \n",
              "bedrooms            32.00       0.93   2.0236   49.8218  \n",
              "bathrooms            7.50       0.77   0.5197    1.2793  \n",
              "sqft_living      13170.00     918.11   1.4732    5.2521  \n",
              "sqft_lot       1650839.00   41412.64  13.0726  285.4958  \n",
              "floors               2.50       0.54   0.6145   -0.4911  \n",
              "waterfront           1.00       0.09  11.3808  127.5343  \n",
              "view                 4.00       0.77   3.3962   10.8957  \n",
              "condition            4.00       0.65   1.0360    0.5192  \n",
              "grade               10.00       1.17   0.7882    1.1351  \n",
              "sqft_above        9040.00     827.76   1.4474    3.4055  \n",
              "sqft_basement     4820.00     442.67   1.5769    2.7118  \n",
              "yr_built           115.00      29.38  -0.4694   -0.6577  \n",
              "yr_renovated      2015.00     401.82   4.5476   18.6837  \n",
              "lat                  0.62       0.14  -0.4855   -0.6758  \n",
              "long                 1.20       0.14   0.8849    1.0521  \n",
              "sqft_living15     5811.00     685.23   1.1069    1.5917  \n",
              "sqft_lot15      870549.00   27274.44   9.5244  151.3957  "
            ],
            "text/html": [
              "\n",
              "  <div id=\"df-e133f10c-a907-4d23-9933-1327f6c4e52e\" class=\"colab-df-container\">\n",
              "    <div>\n",
              "<style scoped>\n",
              "    .dataframe tbody tr th:only-of-type {\n",
              "        vertical-align: middle;\n",
              "    }\n",
              "\n",
              "    .dataframe tbody tr th {\n",
              "        vertical-align: top;\n",
              "    }\n",
              "\n",
              "    .dataframe thead th {\n",
              "        text-align: right;\n",
              "    }\n",
              "</style>\n",
              "<table border=\"1\" class=\"dataframe\">\n",
              "  <thead>\n",
              "    <tr style=\"text-align: right;\">\n",
              "      <th></th>\n",
              "      <th>Count</th>\n",
              "      <th>Null</th>\n",
              "      <th>Mean</th>\n",
              "      <th>Median</th>\n",
              "      <th>Min</th>\n",
              "      <th>Max</th>\n",
              "      <th>Range</th>\n",
              "      <th>Std</th>\n",
              "      <th>Skewness</th>\n",
              "      <th>Kurtosis</th>\n",
              "    </tr>\n",
              "  </thead>\n",
              "  <tbody>\n",
              "    <tr>\n",
              "      <th>price</th>\n",
              "      <td>21597</td>\n",
              "      <td>0</td>\n",
              "      <td>540296.5735</td>\n",
              "      <td>450000.00</td>\n",
              "      <td>78000.00</td>\n",
              "      <td>7700000.00</td>\n",
              "      <td>7622000.00</td>\n",
              "      <td>367368.14</td>\n",
              "      <td>4.0234</td>\n",
              "      <td>34.5414</td>\n",
              "    </tr>\n",
              "    <tr>\n",
              "      <th>bedrooms</th>\n",
              "      <td>21597</td>\n",
              "      <td>0</td>\n",
              "      <td>3.3732</td>\n",
              "      <td>3.00</td>\n",
              "      <td>1.00</td>\n",
              "      <td>33.00</td>\n",
              "      <td>32.00</td>\n",
              "      <td>0.93</td>\n",
              "      <td>2.0236</td>\n",
              "      <td>49.8218</td>\n",
              "    </tr>\n",
              "    <tr>\n",
              "      <th>bathrooms</th>\n",
              "      <td>21597</td>\n",
              "      <td>0</td>\n",
              "      <td>2.1158</td>\n",
              "      <td>2.25</td>\n",
              "      <td>0.50</td>\n",
              "      <td>8.00</td>\n",
              "      <td>7.50</td>\n",
              "      <td>0.77</td>\n",
              "      <td>0.5197</td>\n",
              "      <td>1.2793</td>\n",
              "    </tr>\n",
              "    <tr>\n",
              "      <th>sqft_living</th>\n",
              "      <td>21597</td>\n",
              "      <td>0</td>\n",
              "      <td>2080.3219</td>\n",
              "      <td>1910.00</td>\n",
              "      <td>370.00</td>\n",
              "      <td>13540.00</td>\n",
              "      <td>13170.00</td>\n",
              "      <td>918.11</td>\n",
              "      <td>1.4732</td>\n",
              "      <td>5.2521</td>\n",
              "    </tr>\n",
              "    <tr>\n",
              "      <th>sqft_lot</th>\n",
              "      <td>21597</td>\n",
              "      <td>0</td>\n",
              "      <td>15099.4088</td>\n",
              "      <td>7618.00</td>\n",
              "      <td>520.00</td>\n",
              "      <td>1651359.00</td>\n",
              "      <td>1650839.00</td>\n",
              "      <td>41412.64</td>\n",
              "      <td>13.0726</td>\n",
              "      <td>285.4958</td>\n",
              "    </tr>\n",
              "    <tr>\n",
              "      <th>floors</th>\n",
              "      <td>21597</td>\n",
              "      <td>0</td>\n",
              "      <td>1.4941</td>\n",
              "      <td>1.50</td>\n",
              "      <td>1.00</td>\n",
              "      <td>3.50</td>\n",
              "      <td>2.50</td>\n",
              "      <td>0.54</td>\n",
              "      <td>0.6145</td>\n",
              "      <td>-0.4911</td>\n",
              "    </tr>\n",
              "    <tr>\n",
              "      <th>waterfront</th>\n",
              "      <td>21597</td>\n",
              "      <td>0</td>\n",
              "      <td>0.0075</td>\n",
              "      <td>0.00</td>\n",
              "      <td>0.00</td>\n",
              "      <td>1.00</td>\n",
              "      <td>1.00</td>\n",
              "      <td>0.09</td>\n",
              "      <td>11.3808</td>\n",
              "      <td>127.5343</td>\n",
              "    </tr>\n",
              "    <tr>\n",
              "      <th>view</th>\n",
              "      <td>21597</td>\n",
              "      <td>0</td>\n",
              "      <td>0.2343</td>\n",
              "      <td>0.00</td>\n",
              "      <td>0.00</td>\n",
              "      <td>4.00</td>\n",
              "      <td>4.00</td>\n",
              "      <td>0.77</td>\n",
              "      <td>3.3962</td>\n",
              "      <td>10.8957</td>\n",
              "    </tr>\n",
              "    <tr>\n",
              "      <th>condition</th>\n",
              "      <td>21597</td>\n",
              "      <td>0</td>\n",
              "      <td>3.4098</td>\n",
              "      <td>3.00</td>\n",
              "      <td>1.00</td>\n",
              "      <td>5.00</td>\n",
              "      <td>4.00</td>\n",
              "      <td>0.65</td>\n",
              "      <td>1.0360</td>\n",
              "      <td>0.5192</td>\n",
              "    </tr>\n",
              "    <tr>\n",
              "      <th>grade</th>\n",
              "      <td>21597</td>\n",
              "      <td>0</td>\n",
              "      <td>7.6579</td>\n",
              "      <td>7.00</td>\n",
              "      <td>3.00</td>\n",
              "      <td>13.00</td>\n",
              "      <td>10.00</td>\n",
              "      <td>1.17</td>\n",
              "      <td>0.7882</td>\n",
              "      <td>1.1351</td>\n",
              "    </tr>\n",
              "    <tr>\n",
              "      <th>sqft_above</th>\n",
              "      <td>21597</td>\n",
              "      <td>0</td>\n",
              "      <td>1788.5968</td>\n",
              "      <td>1560.00</td>\n",
              "      <td>370.00</td>\n",
              "      <td>9410.00</td>\n",
              "      <td>9040.00</td>\n",
              "      <td>827.76</td>\n",
              "      <td>1.4474</td>\n",
              "      <td>3.4055</td>\n",
              "    </tr>\n",
              "    <tr>\n",
              "      <th>sqft_basement</th>\n",
              "      <td>21597</td>\n",
              "      <td>0</td>\n",
              "      <td>291.7250</td>\n",
              "      <td>0.00</td>\n",
              "      <td>0.00</td>\n",
              "      <td>4820.00</td>\n",
              "      <td>4820.00</td>\n",
              "      <td>442.67</td>\n",
              "      <td>1.5769</td>\n",
              "      <td>2.7118</td>\n",
              "    </tr>\n",
              "    <tr>\n",
              "      <th>yr_built</th>\n",
              "      <td>21597</td>\n",
              "      <td>0</td>\n",
              "      <td>1970.9997</td>\n",
              "      <td>1975.00</td>\n",
              "      <td>1900.00</td>\n",
              "      <td>2015.00</td>\n",
              "      <td>115.00</td>\n",
              "      <td>29.38</td>\n",
              "      <td>-0.4694</td>\n",
              "      <td>-0.6577</td>\n",
              "    </tr>\n",
              "    <tr>\n",
              "      <th>yr_renovated</th>\n",
              "      <td>21597</td>\n",
              "      <td>0</td>\n",
              "      <td>84.4648</td>\n",
              "      <td>0.00</td>\n",
              "      <td>0.00</td>\n",
              "      <td>2015.00</td>\n",
              "      <td>2015.00</td>\n",
              "      <td>401.82</td>\n",
              "      <td>4.5476</td>\n",
              "      <td>18.6837</td>\n",
              "    </tr>\n",
              "    <tr>\n",
              "      <th>lat</th>\n",
              "      <td>21597</td>\n",
              "      <td>0</td>\n",
              "      <td>47.5601</td>\n",
              "      <td>47.57</td>\n",
              "      <td>47.16</td>\n",
              "      <td>47.78</td>\n",
              "      <td>0.62</td>\n",
              "      <td>0.14</td>\n",
              "      <td>-0.4855</td>\n",
              "      <td>-0.6758</td>\n",
              "    </tr>\n",
              "    <tr>\n",
              "      <th>long</th>\n",
              "      <td>21597</td>\n",
              "      <td>0</td>\n",
              "      <td>-122.2140</td>\n",
              "      <td>-122.23</td>\n",
              "      <td>-122.52</td>\n",
              "      <td>-121.31</td>\n",
              "      <td>1.20</td>\n",
              "      <td>0.14</td>\n",
              "      <td>0.8849</td>\n",
              "      <td>1.0521</td>\n",
              "    </tr>\n",
              "    <tr>\n",
              "      <th>sqft_living15</th>\n",
              "      <td>21597</td>\n",
              "      <td>0</td>\n",
              "      <td>1986.6203</td>\n",
              "      <td>1840.00</td>\n",
              "      <td>399.00</td>\n",
              "      <td>6210.00</td>\n",
              "      <td>5811.00</td>\n",
              "      <td>685.23</td>\n",
              "      <td>1.1069</td>\n",
              "      <td>1.5917</td>\n",
              "    </tr>\n",
              "    <tr>\n",
              "      <th>sqft_lot15</th>\n",
              "      <td>21597</td>\n",
              "      <td>0</td>\n",
              "      <td>12758.2835</td>\n",
              "      <td>7620.00</td>\n",
              "      <td>651.00</td>\n",
              "      <td>871200.00</td>\n",
              "      <td>870549.00</td>\n",
              "      <td>27274.44</td>\n",
              "      <td>9.5244</td>\n",
              "      <td>151.3957</td>\n",
              "    </tr>\n",
              "  </tbody>\n",
              "</table>\n",
              "</div>\n",
              "    <div class=\"colab-df-buttons\">\n",
              "\n",
              "  <div class=\"colab-df-container\">\n",
              "    <button class=\"colab-df-convert\" onclick=\"convertToInteractive('df-e133f10c-a907-4d23-9933-1327f6c4e52e')\"\n",
              "            title=\"Convert this dataframe to an interactive table.\"\n",
              "            style=\"display:none;\">\n",
              "\n",
              "  <svg xmlns=\"http://www.w3.org/2000/svg\" height=\"24px\" viewBox=\"0 -960 960 960\">\n",
              "    <path d=\"M120-120v-720h720v720H120Zm60-500h600v-160H180v160Zm220 220h160v-160H400v160Zm0 220h160v-160H400v160ZM180-400h160v-160H180v160Zm440 0h160v-160H620v160ZM180-180h160v-160H180v160Zm440 0h160v-160H620v160Z\"/>\n",
              "  </svg>\n",
              "    </button>\n",
              "\n",
              "  <style>\n",
              "    .colab-df-container {\n",
              "      display:flex;\n",
              "      gap: 12px;\n",
              "    }\n",
              "\n",
              "    .colab-df-convert {\n",
              "      background-color: #E8F0FE;\n",
              "      border: none;\n",
              "      border-radius: 50%;\n",
              "      cursor: pointer;\n",
              "      display: none;\n",
              "      fill: #1967D2;\n",
              "      height: 32px;\n",
              "      padding: 0 0 0 0;\n",
              "      width: 32px;\n",
              "    }\n",
              "\n",
              "    .colab-df-convert:hover {\n",
              "      background-color: #E2EBFA;\n",
              "      box-shadow: 0px 1px 2px rgba(60, 64, 67, 0.3), 0px 1px 3px 1px rgba(60, 64, 67, 0.15);\n",
              "      fill: #174EA6;\n",
              "    }\n",
              "\n",
              "    .colab-df-buttons div {\n",
              "      margin-bottom: 4px;\n",
              "    }\n",
              "\n",
              "    [theme=dark] .colab-df-convert {\n",
              "      background-color: #3B4455;\n",
              "      fill: #D2E3FC;\n",
              "    }\n",
              "\n",
              "    [theme=dark] .colab-df-convert:hover {\n",
              "      background-color: #434B5C;\n",
              "      box-shadow: 0px 1px 3px 1px rgba(0, 0, 0, 0.15);\n",
              "      filter: drop-shadow(0px 1px 2px rgba(0, 0, 0, 0.3));\n",
              "      fill: #FFFFFF;\n",
              "    }\n",
              "  </style>\n",
              "\n",
              "    <script>\n",
              "      const buttonEl =\n",
              "        document.querySelector('#df-e133f10c-a907-4d23-9933-1327f6c4e52e button.colab-df-convert');\n",
              "      buttonEl.style.display =\n",
              "        google.colab.kernel.accessAllowed ? 'block' : 'none';\n",
              "\n",
              "      async function convertToInteractive(key) {\n",
              "        const element = document.querySelector('#df-e133f10c-a907-4d23-9933-1327f6c4e52e');\n",
              "        const dataTable =\n",
              "          await google.colab.kernel.invokeFunction('convertToInteractive',\n",
              "                                                    [key], {});\n",
              "        if (!dataTable) return;\n",
              "\n",
              "        const docLinkHtml = 'Like what you see? Visit the ' +\n",
              "          '<a target=\"_blank\" href=https://colab.research.google.com/notebooks/data_table.ipynb>data table notebook</a>'\n",
              "          + ' to learn more about interactive tables.';\n",
              "        element.innerHTML = '';\n",
              "        dataTable['output_type'] = 'display_data';\n",
              "        await google.colab.output.renderOutput(dataTable, element);\n",
              "        const docLink = document.createElement('div');\n",
              "        docLink.innerHTML = docLinkHtml;\n",
              "        element.appendChild(docLink);\n",
              "      }\n",
              "    </script>\n",
              "  </div>\n",
              "\n",
              "\n",
              "<div id=\"df-2bb2191b-23d0-41b2-bf88-8542c38d8c51\">\n",
              "  <button class=\"colab-df-quickchart\" onclick=\"quickchart('df-2bb2191b-23d0-41b2-bf88-8542c38d8c51')\"\n",
              "            title=\"Suggest charts\"\n",
              "            style=\"display:none;\">\n",
              "\n",
              "<svg xmlns=\"http://www.w3.org/2000/svg\" height=\"24px\"viewBox=\"0 0 24 24\"\n",
              "     width=\"24px\">\n",
              "    <g>\n",
              "        <path d=\"M19 3H5c-1.1 0-2 .9-2 2v14c0 1.1.9 2 2 2h14c1.1 0 2-.9 2-2V5c0-1.1-.9-2-2-2zM9 17H7v-7h2v7zm4 0h-2V7h2v10zm4 0h-2v-4h2v4z\"/>\n",
              "    </g>\n",
              "</svg>\n",
              "  </button>\n",
              "\n",
              "<style>\n",
              "  .colab-df-quickchart {\n",
              "      --bg-color: #E8F0FE;\n",
              "      --fill-color: #1967D2;\n",
              "      --hover-bg-color: #E2EBFA;\n",
              "      --hover-fill-color: #174EA6;\n",
              "      --disabled-fill-color: #AAA;\n",
              "      --disabled-bg-color: #DDD;\n",
              "  }\n",
              "\n",
              "  [theme=dark] .colab-df-quickchart {\n",
              "      --bg-color: #3B4455;\n",
              "      --fill-color: #D2E3FC;\n",
              "      --hover-bg-color: #434B5C;\n",
              "      --hover-fill-color: #FFFFFF;\n",
              "      --disabled-bg-color: #3B4455;\n",
              "      --disabled-fill-color: #666;\n",
              "  }\n",
              "\n",
              "  .colab-df-quickchart {\n",
              "    background-color: var(--bg-color);\n",
              "    border: none;\n",
              "    border-radius: 50%;\n",
              "    cursor: pointer;\n",
              "    display: none;\n",
              "    fill: var(--fill-color);\n",
              "    height: 32px;\n",
              "    padding: 0;\n",
              "    width: 32px;\n",
              "  }\n",
              "\n",
              "  .colab-df-quickchart:hover {\n",
              "    background-color: var(--hover-bg-color);\n",
              "    box-shadow: 0 1px 2px rgba(60, 64, 67, 0.3), 0 1px 3px 1px rgba(60, 64, 67, 0.15);\n",
              "    fill: var(--button-hover-fill-color);\n",
              "  }\n",
              "\n",
              "  .colab-df-quickchart-complete:disabled,\n",
              "  .colab-df-quickchart-complete:disabled:hover {\n",
              "    background-color: var(--disabled-bg-color);\n",
              "    fill: var(--disabled-fill-color);\n",
              "    box-shadow: none;\n",
              "  }\n",
              "\n",
              "  .colab-df-spinner {\n",
              "    border: 2px solid var(--fill-color);\n",
              "    border-color: transparent;\n",
              "    border-bottom-color: var(--fill-color);\n",
              "    animation:\n",
              "      spin 1s steps(1) infinite;\n",
              "  }\n",
              "\n",
              "  @keyframes spin {\n",
              "    0% {\n",
              "      border-color: transparent;\n",
              "      border-bottom-color: var(--fill-color);\n",
              "      border-left-color: var(--fill-color);\n",
              "    }\n",
              "    20% {\n",
              "      border-color: transparent;\n",
              "      border-left-color: var(--fill-color);\n",
              "      border-top-color: var(--fill-color);\n",
              "    }\n",
              "    30% {\n",
              "      border-color: transparent;\n",
              "      border-left-color: var(--fill-color);\n",
              "      border-top-color: var(--fill-color);\n",
              "      border-right-color: var(--fill-color);\n",
              "    }\n",
              "    40% {\n",
              "      border-color: transparent;\n",
              "      border-right-color: var(--fill-color);\n",
              "      border-top-color: var(--fill-color);\n",
              "    }\n",
              "    60% {\n",
              "      border-color: transparent;\n",
              "      border-right-color: var(--fill-color);\n",
              "    }\n",
              "    80% {\n",
              "      border-color: transparent;\n",
              "      border-right-color: var(--fill-color);\n",
              "      border-bottom-color: var(--fill-color);\n",
              "    }\n",
              "    90% {\n",
              "      border-color: transparent;\n",
              "      border-bottom-color: var(--fill-color);\n",
              "    }\n",
              "  }\n",
              "</style>\n",
              "\n",
              "  <script>\n",
              "    async function quickchart(key) {\n",
              "      const quickchartButtonEl =\n",
              "        document.querySelector('#' + key + ' button');\n",
              "      quickchartButtonEl.disabled = true;  // To prevent multiple clicks.\n",
              "      quickchartButtonEl.classList.add('colab-df-spinner');\n",
              "      try {\n",
              "        const charts = await google.colab.kernel.invokeFunction(\n",
              "            'suggestCharts', [key], {});\n",
              "      } catch (error) {\n",
              "        console.error('Error during call to suggestCharts:', error);\n",
              "      }\n",
              "      quickchartButtonEl.classList.remove('colab-df-spinner');\n",
              "      quickchartButtonEl.classList.add('colab-df-quickchart-complete');\n",
              "    }\n",
              "    (() => {\n",
              "      let quickchartButtonEl =\n",
              "        document.querySelector('#df-2bb2191b-23d0-41b2-bf88-8542c38d8c51 button');\n",
              "      quickchartButtonEl.style.display =\n",
              "        google.colab.kernel.accessAllowed ? 'block' : 'none';\n",
              "    })();\n",
              "  </script>\n",
              "</div>\n",
              "\n",
              "    </div>\n",
              "  </div>\n"
            ],
            "application/vnd.google.colaboratory.intrinsic+json": {
              "type": "dataframe",
              "summary": "{\n  \"name\": \"           range_values, std_values, assimetry_values, kurtosis_values], axis=1)\",\n  \"rows\": 18,\n  \"fields\": [\n    {\n      \"column\": \"Count\",\n      \"properties\": {\n        \"dtype\": \"number\",\n        \"std\": 0,\n        \"min\": 21597,\n        \"max\": 21597,\n        \"num_unique_values\": 1,\n        \"samples\": [\n          21597\n        ],\n        \"semantic_type\": \"\",\n        \"description\": \"\"\n      }\n    },\n    {\n      \"column\": \"Null\",\n      \"properties\": {\n        \"dtype\": \"number\",\n        \"std\": 0,\n        \"min\": 0,\n        \"max\": 0,\n        \"num_unique_values\": 1,\n        \"samples\": [\n          0\n        ],\n        \"semantic_type\": \"\",\n        \"description\": \"\"\n      }\n    },\n    {\n      \"column\": \"Mean\",\n      \"properties\": {\n        \"dtype\": \"string\",\n        \"num_unique_values\": 18,\n        \"samples\": [\n          \"540296.5735\"\n        ],\n        \"semantic_type\": \"\",\n        \"description\": \"\"\n      }\n    },\n    {\n      \"column\": \"Median\",\n      \"properties\": {\n        \"dtype\": \"string\",\n        \"num_unique_values\": 14,\n        \"samples\": [\n          \"1975.00\"\n        ],\n        \"semantic_type\": \"\",\n        \"description\": \"\"\n      }\n    },\n    {\n      \"column\": \"Min\",\n      \"properties\": {\n        \"dtype\": \"string\",\n        \"num_unique_values\": 12,\n        \"samples\": [\n          \"399.00\"\n        ],\n        \"semantic_type\": \"\",\n        \"description\": \"\"\n      }\n    },\n    {\n      \"column\": \"Max\",\n      \"properties\": {\n        \"dtype\": \"string\",\n        \"num_unique_values\": 17,\n        \"samples\": [\n          \"7700000.00\"\n        ],\n        \"semantic_type\": \"\",\n        \"description\": \"\"\n      }\n    },\n    {\n      \"column\": \"Range\",\n      \"properties\": {\n        \"dtype\": \"string\",\n        \"num_unique_values\": 17,\n        \"samples\": [\n          \"7622000.00\"\n        ],\n        \"semantic_type\": \"\",\n        \"description\": \"\"\n      }\n    },\n    {\n      \"column\": \"Std\",\n      \"properties\": {\n        \"dtype\": \"string\",\n        \"num_unique_values\": 16,\n        \"samples\": [\n          \"367368.14\"\n        ],\n        \"semantic_type\": \"\",\n        \"description\": \"\"\n      }\n    },\n    {\n      \"column\": \"Skewness\",\n      \"properties\": {\n        \"dtype\": \"string\",\n        \"num_unique_values\": 18,\n        \"samples\": [\n          \"4.0234\"\n        ],\n        \"semantic_type\": \"\",\n        \"description\": \"\"\n      }\n    },\n    {\n      \"column\": \"Kurtosis\",\n      \"properties\": {\n        \"dtype\": \"string\",\n        \"num_unique_values\": 18,\n        \"samples\": [\n          \"34.5414\"\n        ],\n        \"semantic_type\": \"\",\n        \"description\": \"\"\n      }\n    }\n  ]\n}"
            }
          },
          "metadata": {},
          "execution_count": 9
        }
      ]
    },
    {
      "cell_type": "code",
      "source": [
        "# Histogram for PRICE feature\n",
        "sns.histplot(df['price'])\n",
        "plt.title('Histogram for PRICE feature')\n",
        "plt.ylabel('Frequency')\n",
        "plt.xlabel('Price in US dollar')\n",
        "plt.show()"
      ],
      "metadata": {
        "colab": {
          "base_uri": "https://localhost:8080/",
          "height": 472
        },
        "id": "BlD9AfABUfCi",
        "outputId": "8613de47-bf39-48b7-c359-b9d2b3074860"
      },
      "execution_count": 10,
      "outputs": [
        {
          "output_type": "display_data",
          "data": {
            "text/plain": [
              "<Figure size 640x480 with 1 Axes>"
            ],
            "image/png": "[encoded data removed]"
          },
          "metadata": {}
        }
      ]
    },
    {
      "cell_type": "code",
      "source": [
        "# Create a frequency table to bedrooms feature\n",
        "bedrooms_num = df['bedrooms'].value_counts().sort_index()\n",
        "bedrooms_num"
      ],
      "metadata": {
        "colab": {
          "base_uri": "https://localhost:8080/"
        },
        "id": "rEeTuklc7MLw",
        "outputId": "229a96f1-fb9d-453b-9b13-33be1888c1b3"
      },
      "execution_count": 11,
      "outputs": [
        {
          "output_type": "execute_result",
          "data": {
            "text/plain": [
              "bedrooms\n",
              "1      196\n",
              "2     2760\n",
              "3     9824\n",
              "4     6882\n",
              "5     1601\n",
              "6      272\n",
              "7       38\n",
              "8       13\n",
              "9        6\n",
              "10       3\n",
              "11       1\n",
              "33       1\n",
              "Name: count, dtype: int64"
            ]
          },
          "metadata": {},
          "execution_count": 11
        }
      ]
    },
    {
      "cell_type": "code",
      "source": [
        "# Bar plot for BEDROOMS count x=name y=count\n",
        "sns.barplot(x=bedrooms_num.index, y=bedrooms_num)\n",
        "plt.title('Bar plot for BEDROOMS count')\n",
        "plt.ylabel('Count')\n",
        "plt.xlabel('Number of bedrooms')\n",
        "plt.show()\n"
      ],
      "metadata": {
        "colab": {
          "base_uri": "https://localhost:8080/",
          "height": 472
        },
        "id": "NjpL8w5z5_DE",
        "outputId": "9bc54242-546c-431b-b8a2-ff4c520ebb99"
      },
      "execution_count": 12,
      "outputs": [
        {
          "output_type": "display_data",
          "data": {
            "text/plain": [
              "<Figure size 640x480 with 1 Axes>"
            ],
            "image/png": "[encoded data removed]"
          },
          "metadata": {}
        }
      ]
    },
    {
      "cell_type": "code",
      "source": [
        "# Create frequency table for bathrooms sorted by name\n",
        "bathrooms_num = df['bathrooms'].value_counts().sort_index()\n",
        "bathrooms_num"
      ],
      "metadata": {
        "colab": {
          "base_uri": "https://localhost:8080/"
        },
        "id": "ja5MeBEz8pkV",
        "outputId": "31ec0c38-34b0-481e-9d63-110f25708a08"
      },
      "execution_count": 13,
      "outputs": [
        {
          "output_type": "execute_result",
          "data": {
            "text/plain": [
              "bathrooms\n",
              "0.50       4\n",
              "0.75      71\n",
              "1.00    3851\n",
              "1.25       9\n",
              "1.50    1445\n",
              "1.75    3048\n",
              "2.00    1930\n",
              "2.25    2047\n",
              "2.50    5377\n",
              "2.75    1185\n",
              "3.00     753\n",
              "3.25     589\n",
              "3.50     731\n",
              "3.75     155\n",
              "4.00     136\n",
              "4.25      79\n",
              "4.50     100\n",
              "4.75      23\n",
              "5.00      21\n",
              "5.25      13\n",
              "5.50      10\n",
              "5.75       4\n",
              "6.00       6\n",
              "6.25       2\n",
              "6.50       2\n",
              "6.75       2\n",
              "7.50       1\n",
              "7.75       1\n",
              "8.00       2\n",
              "Name: count, dtype: int64"
            ]
          },
          "metadata": {},
          "execution_count": 13
        }
      ]
    },
    {
      "cell_type": "code",
      "source": [
        "# Create bar plot for BATHROOMS feature\n",
        "plt.figure(figsize=(12,6))\n",
        "sns.barplot(x=bathrooms_num.index, y=bathrooms_num)\n",
        "plt.title('Bar plot for BATHROOMS count')\n",
        "plt.ylabel('Count')\n",
        "plt.xlabel('Number of bathrooms')\n",
        "plt.show()"
      ],
      "metadata": {
        "colab": {
          "base_uri": "https://localhost:8080/",
          "height": 564
        },
        "id": "-_Mma5mGW6l3",
        "outputId": "9c8fc831-cb29-4628-c1c6-1f9244ee642a"
      },
      "execution_count": 14,
      "outputs": [
        {
          "output_type": "display_data",
          "data": {
            "text/plain": [
              "<Figure size 1200x600 with 1 Axes>"
            ],
            "image/png": "[encoded data removed]"
          },
          "metadata": {}
        }
      ]
    },
    {
      "cell_type": "code",
      "source": [
        "# Plot histogram for sqft_living feature\n",
        "sns.histplot(df['sqft_living'])\n",
        "plt.title('Histogram for SQFT_LIVING feature')\n",
        "plt.ylabel('Frequency')\n",
        "plt.xlabel('Square footage of interior living space')\n",
        "plt.show()"
      ],
      "metadata": {
        "colab": {
          "base_uri": "https://localhost:8080/",
          "height": 472
        },
        "id": "l8bynOfUXmtn",
        "outputId": "5724e68f-eb15-46e7-dada-d98791af8dcb"
      },
      "execution_count": 15,
      "outputs": [
        {
          "output_type": "display_data",
          "data": {
            "text/plain": [
              "<Figure size 640x480 with 1 Axes>"
            ],
            "image/png": "[encoded data removed]"
          },
          "metadata": {}
        }
      ]
    },
    {
      "cell_type": "code",
      "source": [
        "# Plot histogram for SQFT_LOFT feature\n",
        "plt.figure(figsize=(12,6))\n",
        "sns.histplot(df['sqft_lot'])\n",
        "plt.title('Histogram for SQFT_LOT feature')\n",
        "plt.ylabel('Frequency')\n",
        "plt.xlabel('Land area in square feet')\n",
        "plt.show()"
      ],
      "metadata": {
        "colab": {
          "base_uri": "https://localhost:8080/",
          "height": 564
        },
        "id": "ukcP3QopXuok",
        "outputId": "b389a723-a512-4290-9ea1-556136283f19"
      },
      "execution_count": 16,
      "outputs": [
        {
          "output_type": "display_data",
          "data": {
            "text/plain": [
              "<Figure size 1200x600 with 1 Axes>"
            ],
            "image/png": "[encoded data removed]"
          },
          "metadata": {}
        }
      ]
    },
    {
      "cell_type": "code",
      "source": [
        "# Create frequency table for FLOORS feature\n",
        "floors_num = df['floors'].value_counts().sort_index()\n",
        "floors_num"
      ],
      "metadata": {
        "colab": {
          "base_uri": "https://localhost:8080/"
        },
        "id": "Pyntz1lLZDSN",
        "outputId": "f2d87084-2e6b-4518-f0b6-393236ea372c"
      },
      "execution_count": 17,
      "outputs": [
        {
          "output_type": "execute_result",
          "data": {
            "text/plain": [
              "floors\n",
              "1.0    10673\n",
              "1.5     1910\n",
              "2.0     8235\n",
              "2.5      161\n",
              "3.0      611\n",
              "3.5        7\n",
              "Name: count, dtype: int64"
            ]
          },
          "metadata": {},
          "execution_count": 17
        }
      ]
    },
    {
      "cell_type": "code",
      "source": [
        "# Create bar plot for FLOORS feature\n",
        "sns.barplot(x=floors_num.index, y=floors_num)\n",
        "plt.title('Bar plot for FLOORS feature')\n",
        "plt.ylabel('Count')\n",
        "plt.xlabel('Number of floors')\n"
      ],
      "metadata": {
        "colab": {
          "base_uri": "https://localhost:8080/",
          "height": 489
        },
        "id": "NnabvLgEZxhP",
        "outputId": "4d6caece-fb04-4947-ee7e-b4e4c7812a68"
      },
      "execution_count": 18,
      "outputs": [
        {
          "output_type": "execute_result",
          "data": {
            "text/plain": [
              "Text(0.5, 0, 'Number of floors')"
            ]
          },
          "metadata": {},
          "execution_count": 18
        },
        {
          "output_type": "display_data",
          "data": {
            "text/plain": [
              "<Figure size 640x480 with 1 Axes>"
            ],
            "image/png": "[encoded data removed]"
          },
          "metadata": {}
        }
      ]
    },
    {
      "cell_type": "code",
      "source": [
        "# Create frequency table for WATERFRONT feature\n",
        "waterfront_num = df['waterfront'].value_counts().sort_index()\n",
        "waterfront_percent = (waterfront_num / len(df)) * 100\n",
        "waterfront_percent"
      ],
      "metadata": {
        "colab": {
          "base_uri": "https://localhost:8080/"
        },
        "id": "GLX9qxc2ad0S",
        "outputId": "dad60073-5ce1-47d9-f276-a1659a6391f0"
      },
      "execution_count": 19,
      "outputs": [
        {
          "output_type": "execute_result",
          "data": {
            "text/plain": [
              "waterfront\n",
              "0    99.245266\n",
              "1     0.754734\n",
              "Name: count, dtype: float64"
            ]
          },
          "metadata": {},
          "execution_count": 19
        }
      ]
    },
    {
      "cell_type": "markdown",
      "source": [
        "99% of houses don't have waterfront view."
      ],
      "metadata": {
        "id": "1jCk0Hq9awGC"
      }
    },
    {
      "cell_type": "code",
      "source": [
        "# Create bar plot for WATERFRONT feature\n",
        "plt.figure(figsize=(4,4))\n",
        "sns.barplot(x=waterfront_percent.index, y=waterfront_percent)\n",
        "plt.title('Bar plot for WATERFRONT feature')\n",
        "plt.ylabel('Percentage')\n",
        "plt.xlabel('Waterfront view')"
      ],
      "metadata": {
        "colab": {
          "base_uri": "https://localhost:8080/",
          "height": 427
        },
        "id": "6su2qnc3bHlL",
        "outputId": "432e5965-d8d2-442e-b812-eeb1f5dc8d7b"
      },
      "execution_count": 20,
      "outputs": [
        {
          "output_type": "execute_result",
          "data": {
            "text/plain": [
              "Text(0.5, 0, 'Waterfront view')"
            ]
          },
          "metadata": {},
          "execution_count": 20
        },
        {
          "output_type": "display_data",
          "data": {
            "text/plain": [
              "<Figure size 400x400 with 1 Axes>"
            ],
            "image/png": "[encoded data removed]"
          },
          "metadata": {}
        }
      ]
    },
    {
      "cell_type": "code",
      "source": [
        "# Create frequency table for VIEW feature\n",
        "view_num = df['view'].value_counts().sort_index()\n",
        "view_num"
      ],
      "metadata": {
        "colab": {
          "base_uri": "https://localhost:8080/"
        },
        "id": "UWn3H4vab6km",
        "outputId": "4c124ea4-2b4f-451f-c4d7-59082b74266a"
      },
      "execution_count": 21,
      "outputs": [
        {
          "output_type": "execute_result",
          "data": {
            "text/plain": [
              "view\n",
              "0    19475\n",
              "1      332\n",
              "2      961\n",
              "3      510\n",
              "4      319\n",
              "Name: count, dtype: int64"
            ]
          },
          "metadata": {},
          "execution_count": 21
        }
      ]
    },
    {
      "cell_type": "code",
      "source": [
        "view_percent = (view_num / len(df)) * 100\n",
        "view_percent"
      ],
      "metadata": {
        "colab": {
          "base_uri": "https://localhost:8080/"
        },
        "id": "riU00_yld_Zh",
        "outputId": "8de253eb-ba04-4b08-80d5-e67f7cf7b511"
      },
      "execution_count": 22,
      "outputs": [
        {
          "output_type": "execute_result",
          "data": {
            "text/plain": [
              "view\n",
              "0    90.174561\n",
              "1     1.537251\n",
              "2     4.449692\n",
              "3     2.361439\n",
              "4     1.477057\n",
              "Name: count, dtype: float64"
            ]
          },
          "metadata": {},
          "execution_count": 22
        }
      ]
    },
    {
      "cell_type": "markdown",
      "source": [
        "90% of houses do not have good view."
      ],
      "metadata": {
        "id": "n4YC6ZRWeMHy"
      }
    },
    {
      "cell_type": "code",
      "source": [
        "# Create bar plot for VIEW feature\n",
        "sns.barplot(x=view_percent.index, y=view_percent)\n",
        "plt.title('Bar plot for VIEW feature')\n",
        "plt.ylabel('Percentage')\n",
        "plt.xlabel('View')"
      ],
      "metadata": {
        "colab": {
          "base_uri": "https://localhost:8080/",
          "height": 489
        },
        "id": "OB_cWozbeaXq",
        "outputId": "0b8d33a3-b316-4387-b2ac-34f2ecb5fdc4"
      },
      "execution_count": 23,
      "outputs": [
        {
          "output_type": "execute_result",
          "data": {
            "text/plain": [
              "Text(0.5, 0, 'View')"
            ]
          },
          "metadata": {},
          "execution_count": 23
        },
        {
          "output_type": "display_data",
          "data": {
            "text/plain": [
              "<Figure size 640x480 with 1 Axes>"
            ],
            "image/png": "[encoded data removed]"
          },
          "metadata": {}
        }
      ]
    },
    {
      "cell_type": "code",
      "source": [
        "# Create frequency table for CONDITION feature\n",
        "condition_num = df['condition'].value_counts().sort_index()\n",
        "condition_num"
      ],
      "metadata": {
        "colab": {
          "base_uri": "https://localhost:8080/"
        },
        "id": "c26GhVAFfHWW",
        "outputId": "84d4b0b1-9d68-4ba7-95b7-600e08089797"
      },
      "execution_count": 24,
      "outputs": [
        {
          "output_type": "execute_result",
          "data": {
            "text/plain": [
              "condition\n",
              "1       29\n",
              "2      170\n",
              "3    14020\n",
              "4     5677\n",
              "5     1701\n",
              "Name: count, dtype: int64"
            ]
          },
          "metadata": {},
          "execution_count": 24
        }
      ]
    },
    {
      "cell_type": "code",
      "source": [
        "condition_percent = (condition_num / len(df)) * 100\n",
        "condition_percent"
      ],
      "metadata": {
        "colab": {
          "base_uri": "https://localhost:8080/"
        },
        "id": "42-2WzpvfQHM",
        "outputId": "05f6afe8-4538-49fc-f9b8-b9a58de8befd"
      },
      "execution_count": 25,
      "outputs": [
        {
          "output_type": "execute_result",
          "data": {
            "text/plain": [
              "condition\n",
              "1     0.134278\n",
              "2     0.787146\n",
              "3    64.916424\n",
              "4    26.286058\n",
              "5     7.876094\n",
              "Name: count, dtype: float64"
            ]
          },
          "metadata": {},
          "execution_count": 25
        }
      ]
    },
    {
      "cell_type": "markdown",
      "source": [
        "64% of houses are in regular conditions.  \n",
        "26% of houses are in good conditions."
      ],
      "metadata": {
        "id": "bEsdZE5ifXkB"
      }
    },
    {
      "cell_type": "code",
      "source": [
        "# Create bar plot for CONDITION feature\n",
        "sns.barplot(x=condition_percent.index, y=condition_percent)\n",
        "plt.title('Bar plot for CONDITION feature')\n",
        "plt.ylabel('Percentage')\n",
        "plt.xlabel('Condition')"
      ],
      "metadata": {
        "colab": {
          "base_uri": "https://localhost:8080/",
          "height": 489
        },
        "id": "nZLApPIHfqRe",
        "outputId": "eb805d72-e131-4043-9bb1-7f8783efdfa7"
      },
      "execution_count": 26,
      "outputs": [
        {
          "output_type": "execute_result",
          "data": {
            "text/plain": [
              "Text(0.5, 0, 'Condition')"
            ]
          },
          "metadata": {},
          "execution_count": 26
        },
        {
          "output_type": "display_data",
          "data": {
            "text/plain": [
              "<Figure size 640x480 with 1 Axes>"
            ],
            "image/png": "[encoded data removed]"
          },
          "metadata": {}
        }
      ]
    },
    {
      "cell_type": "code",
      "source": [
        "# Create frequency table for GRADE feature\n",
        "grade_num = df['grade'].value_counts().sort_index()\n",
        "grade_num"
      ],
      "metadata": {
        "colab": {
          "base_uri": "https://localhost:8080/"
        },
        "id": "QrVtPo0vf2Lr",
        "outputId": "9d49a008-a4bd-499c-9a34-9bc97dd99178"
      },
      "execution_count": 27,
      "outputs": [
        {
          "output_type": "execute_result",
          "data": {
            "text/plain": [
              "grade\n",
              "3        1\n",
              "4       27\n",
              "5      242\n",
              "6     2038\n",
              "7     8974\n",
              "8     6065\n",
              "9     2615\n",
              "10    1134\n",
              "11     399\n",
              "12      89\n",
              "13      13\n",
              "Name: count, dtype: int64"
            ]
          },
          "metadata": {},
          "execution_count": 27
        }
      ]
    },
    {
      "cell_type": "code",
      "source": [
        "grade_percent = (grade_num / len(df)) * 100\n",
        "grade_percent"
      ],
      "metadata": {
        "colab": {
          "base_uri": "https://localhost:8080/"
        },
        "id": "DHaCYOepgIaH",
        "outputId": "454ae1e0-4985-4faa-9f54-2356ee5cf861"
      },
      "execution_count": 28,
      "outputs": [
        {
          "output_type": "execute_result",
          "data": {
            "text/plain": [
              "grade\n",
              "3      0.004630\n",
              "4      0.125017\n",
              "5      1.120526\n",
              "6      9.436496\n",
              "7     41.552067\n",
              "8     28.082604\n",
              "9     12.108163\n",
              "10     5.250729\n",
              "11     1.847479\n",
              "12     0.412094\n",
              "13     0.060194\n",
              "Name: count, dtype: float64"
            ]
          },
          "metadata": {},
          "execution_count": 28
        }
      ]
    },
    {
      "cell_type": "markdown",
      "source": [
        "About 80% of houses are of average to good construction and design levels."
      ],
      "metadata": {
        "id": "SzU8gmAIgQC7"
      }
    },
    {
      "cell_type": "code",
      "source": [
        "# Create bar plot for GRADE feature\n",
        "sns.barplot(x=grade_percent.index, y=grade_percent)\n",
        "plt.title('Bar plot for GRADE feature')\n",
        "plt.ylabel('Percentage')\n",
        "plt.xlabel('Grade')"
      ],
      "metadata": {
        "colab": {
          "base_uri": "https://localhost:8080/",
          "height": 489
        },
        "id": "BHiWujPpgqVU",
        "outputId": "e942bf30-68b4-4371-b307-f0dabca6957f"
      },
      "execution_count": 29,
      "outputs": [
        {
          "output_type": "execute_result",
          "data": {
            "text/plain": [
              "Text(0.5, 0, 'Grade')"
            ]
          },
          "metadata": {},
          "execution_count": 29
        },
        {
          "output_type": "display_data",
          "data": {
            "text/plain": [
              "<Figure size 640x480 with 1 Axes>"
            ],
            "image/png": "[encoded data removed]"
          },
          "metadata": {}
        }
      ]
    },
    {
      "cell_type": "code",
      "source": [
        "# Create histogram for SQFT_ABOVE feature\n",
        "sns.histplot(df['sqft_above'])\n",
        "plt.title('Histogram for SQFT_ABOVE feature')\n",
        "plt.ylabel('Frequency')\n",
        "plt.xlabel('Above ground level interior housing space in square feet')\n",
        "plt.show()"
      ],
      "metadata": {
        "colab": {
          "base_uri": "https://localhost:8080/",
          "height": 472
        },
        "id": "gccpkuORhBWI",
        "outputId": "193d3fde-43c9-417d-f429-59b201422249"
      },
      "execution_count": 30,
      "outputs": [
        {
          "output_type": "display_data",
          "data": {
            "text/plain": [
              "<Figure size 640x480 with 1 Axes>"
            ],
            "image/png": "[encoded data removed]"
          },
          "metadata": {}
        }
      ]
    },
    {
      "cell_type": "code",
      "source": [
        "# Create histogram for SQFT_BASEMENT feature\n",
        "plt.figure(figsize=(12,6))\n",
        "sns.histplot(df['sqft_basement'])\n",
        "plt.title('Histogram for SQFT_BASEMENT feature')\n",
        "plt.ylabel('Frequency')\n",
        "plt.xlabel('Below ground level interior housing space in square feet')\n",
        "plt.show()"
      ],
      "metadata": {
        "colab": {
          "base_uri": "https://localhost:8080/",
          "height": 564
        },
        "id": "-ql_FQvqhjo9",
        "outputId": "3970f37a-841d-4016-e756-b1d6843e2b09"
      },
      "execution_count": 31,
      "outputs": [
        {
          "output_type": "display_data",
          "data": {
            "text/plain": [
              "<Figure size 1200x600 with 1 Axes>"
            ],
            "image/png": "[encoded data removed]"
          },
          "metadata": {}
        }
      ]
    },
    {
      "cell_type": "markdown",
      "source": [
        "Most of houses does not have basement.\n"
      ],
      "metadata": {
        "id": "zc62YxYAhxWp"
      }
    },
    {
      "cell_type": "code",
      "source": [
        "# Create frequency table for YR_BUILT feature\n",
        "yr_built_num = df['yr_built'].value_counts().sort_index()\n",
        "yr_built_num"
      ],
      "metadata": {
        "colab": {
          "base_uri": "https://localhost:8080/"
        },
        "id": "mLR5XDZbh1up",
        "outputId": "f47cae27-dec0-4854-8986-703c1ff73582"
      },
      "execution_count": 32,
      "outputs": [
        {
          "output_type": "execute_result",
          "data": {
            "text/plain": [
              "yr_built\n",
              "1900     87\n",
              "1901     29\n",
              "1902     27\n",
              "1903     46\n",
              "1904     45\n",
              "       ... \n",
              "2011    130\n",
              "2012    170\n",
              "2013    201\n",
              "2014    559\n",
              "2015     38\n",
              "Name: count, Length: 116, dtype: int64"
            ]
          },
          "metadata": {},
          "execution_count": 32
        }
      ]
    },
    {
      "cell_type": "code",
      "source": [
        "yr_built_percent = (yr_built_num / len(df)) * 100\n",
        "yr_built_percent"
      ],
      "metadata": {
        "colab": {
          "base_uri": "https://localhost:8080/"
        },
        "id": "4HgFmYC6iJIk",
        "outputId": "cb6d6387-4fe4-444b-c2bd-a9d6a2e70183"
      },
      "execution_count": 33,
      "outputs": [
        {
          "output_type": "execute_result",
          "data": {
            "text/plain": [
              "yr_built\n",
              "1900    0.402834\n",
              "1901    0.134278\n",
              "1902    0.125017\n",
              "1903    0.212993\n",
              "1904    0.208362\n",
              "          ...   \n",
              "2011    0.601935\n",
              "2012    0.787146\n",
              "2013    0.930685\n",
              "2014    2.588322\n",
              "2015    0.175950\n",
              "Name: count, Length: 116, dtype: float64"
            ]
          },
          "metadata": {},
          "execution_count": 33
        }
      ]
    },
    {
      "cell_type": "code",
      "source": [
        "# Create frequency table for zipcode feature\n",
        "df['zipcode'].value_counts()"
      ],
      "metadata": {
        "colab": {
          "base_uri": "https://localhost:8080/"
        },
        "id": "Gyxo-NakiXLM",
        "outputId": "9c45e36b-2b2a-4752-9db1-800673c34ae0"
      },
      "execution_count": 34,
      "outputs": [
        {
          "output_type": "execute_result",
          "data": {
            "text/plain": [
              "zipcode\n",
              "98103    602\n",
              "98038    589\n",
              "98115    583\n",
              "98052    574\n",
              "98117    553\n",
              "        ... \n",
              "98102    104\n",
              "98010    100\n",
              "98024     80\n",
              "98148     57\n",
              "98039     50\n",
              "Name: count, Length: 70, dtype: int64"
            ]
          },
          "metadata": {},
          "execution_count": 34
        }
      ]
    },
    {
      "cell_type": "markdown",
      "source": [
        "There are 70 different zip codes.  \n",
        "In this moment this feature will be deleted."
      ],
      "metadata": {
        "id": "NYDMk-LtV00A"
      }
    },
    {
      "cell_type": "code",
      "source": [
        "# Remove zip code feature\n",
        "df = df.drop('zipcode', axis=1)"
      ],
      "metadata": {
        "id": "1VCeZKT1WaVj"
      },
      "execution_count": 35,
      "outputs": []
    },
    {
      "cell_type": "code",
      "source": [
        "# Create frequency table for yr_renovated feature\n",
        "df['yr_renovated'].value_counts()"
      ],
      "metadata": {
        "colab": {
          "base_uri": "https://localhost:8080/"
        },
        "id": "Leh2HzZUWl9U",
        "outputId": "09af7bd0-b459-472d-ddde-53b6a16dacf5"
      },
      "execution_count": 36,
      "outputs": [
        {
          "output_type": "execute_result",
          "data": {
            "text/plain": [
              "yr_renovated\n",
              "0       20683\n",
              "2014       91\n",
              "2013       37\n",
              "2003       36\n",
              "2005       35\n",
              "        ...  \n",
              "1951        1\n",
              "1959        1\n",
              "1948        1\n",
              "1954        1\n",
              "1944        1\n",
              "Name: count, Length: 70, dtype: int64"
            ]
          },
          "metadata": {},
          "execution_count": 36
        }
      ]
    },
    {
      "cell_type": "markdown",
      "source": [
        "Most of the houses were not renovated.  "
      ],
      "metadata": {
        "id": "uKa7IBj8XKjw"
      }
    },
    {
      "cell_type": "code",
      "source": [
        "# Create frequency table for sqft_basement feature\n",
        "df['sqft_basement'].value_counts()"
      ],
      "metadata": {
        "colab": {
          "base_uri": "https://localhost:8080/"
        },
        "id": "VGCnT-jtXzXz",
        "outputId": "b4539533-b5ba-46f9-8c4f-23ae138025f2"
      },
      "execution_count": 37,
      "outputs": [
        {
          "output_type": "execute_result",
          "data": {
            "text/plain": [
              "sqft_basement\n",
              "0      13110\n",
              "600      221\n",
              "700      218\n",
              "500      214\n",
              "800      206\n",
              "       ...  \n",
              "518        1\n",
              "374        1\n",
              "784        1\n",
              "906        1\n",
              "248        1\n",
              "Name: count, Length: 306, dtype: int64"
            ]
          },
          "metadata": {},
          "execution_count": 37
        }
      ]
    },
    {
      "cell_type": "markdown",
      "source": [
        "Most of houses do not have basement."
      ],
      "metadata": {
        "id": "LUJKcEo8YU2m"
      }
    },
    {
      "cell_type": "code",
      "source": [
        "# Separate dependent and independent features, then store both as a Numpy array\n",
        "X = df.drop('price', axis=1).values\n",
        "y = df['price'].values"
      ],
      "metadata": {
        "id": "PI8paJ_CZBxj"
      },
      "execution_count": 38,
      "outputs": []
    },
    {
      "cell_type": "code",
      "source": [
        "# Create train and test set\n",
        "X_train, X_test, y_train, y_test = train_test_split(X, y, test_size=0.3, random_state=101)"
      ],
      "metadata": {
        "id": "BnJCbFWZZq0W"
      },
      "execution_count": 39,
      "outputs": []
    },
    {
      "cell_type": "code",
      "source": [
        "# Create scaler object\n",
        "scaler = MinMaxScaler()"
      ],
      "metadata": {
        "id": "6KjNwHfMagga"
      },
      "execution_count": 40,
      "outputs": []
    },
    {
      "cell_type": "code",
      "source": [
        "# Scale X_train\n",
        "X_train = scaler.fit_transform(X_train)"
      ],
      "metadata": {
        "id": "nFyesILrarNt"
      },
      "execution_count": 41,
      "outputs": []
    },
    {
      "cell_type": "code",
      "source": [
        "# Scale X_test\n",
        "X_test = scaler.fit_transform(X_test)"
      ],
      "metadata": {
        "id": "cTxZQFqEbBSD"
      },
      "execution_count": 42,
      "outputs": []
    },
    {
      "cell_type": "code",
      "source": [
        "# Create model\n",
        "model = Sequential()\n",
        "\n",
        "# As we have 19 features in the dataset, that's a good idea to use 19 neurons\n",
        "model.add(Dense(19, activation='relu'))\n",
        "model.add(Dense(19, activation='relu'))\n",
        "model.add(Dense(19, activation='relu'))\n",
        "model.add(Dense(19, activation='relu'))\n",
        "\n",
        "# As a regression problem the ANN will have only one neuron on the last layer\n",
        "model.add(Dense(1))\n",
        "\n",
        "model.compile(optimizer='adam', loss='mse')"
      ],
      "metadata": {
        "id": "JDvXF4-lbPOX"
      },
      "execution_count": 43,
      "outputs": []
    },
    {
      "cell_type": "code",
      "source": [
        "# Train model\n",
        "#model.fit(x=X_train, y=y_train,\n",
        "#          validation_data=(X_test, y_test),\n",
        "#          batch_size=128, epochs=400)"
      ],
      "metadata": {
        "id": "q_H6zhGfdS7j"
      },
      "execution_count": 44,
      "outputs": []
    },
    {
      "cell_type": "code",
      "source": [
        "# Save the model\n",
        "#model.save('kc_house_model.h5')"
      ],
      "metadata": {
        "id": "Cn5-YZvMhnqN"
      },
      "execution_count": 45,
      "outputs": []
    },
    {
      "cell_type": "code",
      "source": [
        "# Load model\n",
        "model = load_model('kc_house_model.h5')"
      ],
      "metadata": {
        "colab": {
          "base_uri": "https://localhost:8080/",
          "height": 304
        },
        "id": "EET2U9YQoedO",
        "outputId": "c2fa2182-108a-4523-c2bf-083513b86908"
      },
      "execution_count": 47,
      "outputs": [
        {
          "output_type": "error",
          "ename": "OSError",
          "evalue": "No file or directory found at kc_house_model.h5",
          "traceback": [
            "\u001b[0;31m---------------------------------------------------------------------------\u001b[0m",
            "\u001b[0;31mOSError\u001b[0m                                   Traceback (most recent call last)",
            "\u001b[0;32m<ipython-input-47-8f994bb1483f>\u001b[0m in \u001b[0;36m<cell line: 2>\u001b[0;34m()\u001b[0m\n\u001b[1;32m      1\u001b[0m \u001b[0;31m# Load model\u001b[0m\u001b[0;34m\u001b[0m\u001b[0;34m\u001b[0m\u001b[0m\n\u001b[0;32m----> 2\u001b[0;31m \u001b[0mmodel\u001b[0m \u001b[0;34m=\u001b[0m \u001b[0mload_model\u001b[0m\u001b[0;34m(\u001b[0m\u001b[0;34m'kc_house_model.h5'\u001b[0m\u001b[0;34m)\u001b[0m\u001b[0;34m\u001b[0m\u001b[0;34m\u001b[0m\u001b[0m\n\u001b[0m",
            "\u001b[0;32m/usr/local/lib/python3.10/dist-packages/keras/src/saving/saving_api.py\u001b[0m in \u001b[0;36mload_model\u001b[0;34m(filepath, custom_objects, compile, safe_mode, **kwargs)\u001b[0m\n\u001b[1;32m    260\u001b[0m \u001b[0;34m\u001b[0m\u001b[0m\n\u001b[1;32m    261\u001b[0m     \u001b[0;31m# Legacy case.\u001b[0m\u001b[0;34m\u001b[0m\u001b[0;34m\u001b[0m\u001b[0m\n\u001b[0;32m--> 262\u001b[0;31m     return legacy_sm_saving_lib.load_model(\n\u001b[0m\u001b[1;32m    263\u001b[0m         \u001b[0mfilepath\u001b[0m\u001b[0;34m,\u001b[0m \u001b[0mcustom_objects\u001b[0m\u001b[0;34m=\u001b[0m\u001b[0mcustom_objects\u001b[0m\u001b[0;34m,\u001b[0m \u001b[0mcompile\u001b[0m\u001b[0;34m=\u001b[0m\u001b[0mcompile\u001b[0m\u001b[0;34m,\u001b[0m \u001b[0;34m**\u001b[0m\u001b[0mkwargs\u001b[0m\u001b[0;34m\u001b[0m\u001b[0;34m\u001b[0m\u001b[0m\n\u001b[1;32m    264\u001b[0m     )\n",
            "\u001b[0;32m/usr/local/lib/python3.10/dist-packages/keras/src/utils/traceback_utils.py\u001b[0m in \u001b[0;36merror_handler\u001b[0;34m(*args, **kwargs)\u001b[0m\n\u001b[1;32m     68\u001b[0m             \u001b[0;31m# To get the full stack trace, call:\u001b[0m\u001b[0;34m\u001b[0m\u001b[0;34m\u001b[0m\u001b[0m\n\u001b[1;32m     69\u001b[0m             \u001b[0;31m# `tf.debugging.disable_traceback_filtering()`\u001b[0m\u001b[0;34m\u001b[0m\u001b[0;34m\u001b[0m\u001b[0m\n\u001b[0;32m---> 70\u001b[0;31m             \u001b[0;32mraise\u001b[0m \u001b[0me\u001b[0m\u001b[0;34m.\u001b[0m\u001b[0mwith_traceback\u001b[0m\u001b[0;34m(\u001b[0m\u001b[0mfiltered_tb\u001b[0m\u001b[0;34m)\u001b[0m \u001b[0;32mfrom\u001b[0m \u001b[0;32mNone\u001b[0m\u001b[0;34m\u001b[0m\u001b[0;34m\u001b[0m\u001b[0m\n\u001b[0m\u001b[1;32m     71\u001b[0m         \u001b[0;32mfinally\u001b[0m\u001b[0;34m:\u001b[0m\u001b[0;34m\u001b[0m\u001b[0;34m\u001b[0m\u001b[0m\n\u001b[1;32m     72\u001b[0m             \u001b[0;32mdel\u001b[0m \u001b[0mfiltered_tb\u001b[0m\u001b[0;34m\u001b[0m\u001b[0;34m\u001b[0m\u001b[0m\n",
            "\u001b[0;32m/usr/local/lib/python3.10/dist-packages/keras/src/saving/legacy/save.py\u001b[0m in \u001b[0;36mload_model\u001b[0;34m(filepath, custom_objects, compile, options)\u001b[0m\n\u001b[1;32m    232\u001b[0m                     \u001b[0;32mif\u001b[0m \u001b[0misinstance\u001b[0m\u001b[0;34m(\u001b[0m\u001b[0mfilepath_str\u001b[0m\u001b[0;34m,\u001b[0m \u001b[0mstr\u001b[0m\u001b[0;34m)\u001b[0m\u001b[0;34m:\u001b[0m\u001b[0;34m\u001b[0m\u001b[0;34m\u001b[0m\u001b[0m\n\u001b[1;32m    233\u001b[0m                         \u001b[0;32mif\u001b[0m \u001b[0;32mnot\u001b[0m \u001b[0mtf\u001b[0m\u001b[0;34m.\u001b[0m\u001b[0mio\u001b[0m\u001b[0;34m.\u001b[0m\u001b[0mgfile\u001b[0m\u001b[0;34m.\u001b[0m\u001b[0mexists\u001b[0m\u001b[0;34m(\u001b[0m\u001b[0mfilepath_str\u001b[0m\u001b[0;34m)\u001b[0m\u001b[0;34m:\u001b[0m\u001b[0;34m\u001b[0m\u001b[0;34m\u001b[0m\u001b[0m\n\u001b[0;32m--> 234\u001b[0;31m                             raise IOError(\n\u001b[0m\u001b[1;32m    235\u001b[0m                                 \u001b[0;34mf\"No file or directory found at {filepath_str}\"\u001b[0m\u001b[0;34m\u001b[0m\u001b[0;34m\u001b[0m\u001b[0m\n\u001b[1;32m    236\u001b[0m                             )\n",
            "\u001b[0;31mOSError\u001b[0m: No file or directory found at kc_house_model.h5"
          ]
        }
      ]
    },
    {
      "cell_type": "code",
      "source": [
        "losses = pd.DataFrame(model.history.history)"
      ],
      "metadata": {
        "id": "ctdPn2F9h-Ca"
      },
      "execution_count": null,
      "outputs": []
    },
    {
      "cell_type": "code",
      "source": [
        "# Plot losses\n",
        "losses.plot()"
      ],
      "metadata": {
        "id": "iRKrIZw5iKlc"
      },
      "execution_count": null,
      "outputs": []
    },
    {
      "cell_type": "markdown",
      "source": [
        "There is no overfitting once train and test lines are almost overlapped.  \n",
        "Technically speaking, it is possible to continue trainning the model."
      ],
      "metadata": {
        "id": "3agjTfcAiUYS"
      }
    },
    {
      "cell_type": "code",
      "source": [
        "predictions = model.predict(X_test)"
      ],
      "metadata": {
        "id": "2Zhvv0v_i6zC"
      },
      "execution_count": null,
      "outputs": []
    },
    {
      "cell_type": "code",
      "source": [
        "# Calculate MSE\n",
        "mean_squared_error(y_test, predictions)"
      ],
      "metadata": {
        "id": "FKfMrsP5jVrJ"
      },
      "execution_count": null,
      "outputs": []
    },
    {
      "cell_type": "code",
      "source": [
        "# Calculate RMSE\n",
        "np.sqrt(mean_squared_error(y_test, predictions))"
      ],
      "metadata": {
        "id": "3XqiP9qDjefr"
      },
      "execution_count": null,
      "outputs": []
    },
    {
      "cell_type": "code",
      "source": [
        "# Calculate MAE\n",
        "mean_absolute_error(y_test, predictions)"
      ],
      "metadata": {
        "id": "sBwr94o7jpNX"
      },
      "execution_count": null,
      "outputs": []
    },
    {
      "cell_type": "code",
      "source": [
        "(111828 / 540296.57) * 100"
      ],
      "metadata": {
        "id": "l8eYfqCPjx9X"
      },
      "execution_count": null,
      "outputs": []
    },
    {
      "cell_type": "markdown",
      "source": [
        "The error is about USD 111828, which seems to be a very large error.  \n",
        "As the mean price is USD 540296.57, the error represents 21% of the mean.  \n",
        "The model isn't good."
      ],
      "metadata": {
        "id": "KyE2208xkbmt"
      }
    },
    {
      "cell_type": "code",
      "source": [
        "explained_variance_score(y_test, predictions)"
      ],
      "metadata": {
        "id": "L-yN7Rs-k2LJ"
      },
      "execution_count": null,
      "outputs": []
    },
    {
      "cell_type": "code",
      "source": [
        "plt.figure(figsize=(12,6))\n",
        "plt.scatter(y_test, predictions)\n",
        "plt.plot(y_test, y_test, 'r')"
      ],
      "metadata": {
        "id": "O0ACOvTOls26"
      },
      "execution_count": null,
      "outputs": []
    },
    {
      "cell_type": "markdown",
      "source": [
        "### Predicting price of a single house"
      ],
      "metadata": {
        "id": "W0vOQDFzmk-K"
      }
    },
    {
      "cell_type": "code",
      "source": [
        "single_house = df.drop('price', axis=1).iloc[0]"
      ],
      "metadata": {
        "id": "RRalaMoImjR8"
      },
      "execution_count": null,
      "outputs": []
    },
    {
      "cell_type": "code",
      "source": [
        "single_house.values.shape"
      ],
      "metadata": {
        "id": "94cAvesZnRMa"
      },
      "execution_count": null,
      "outputs": []
    },
    {
      "cell_type": "code",
      "source": [
        "single_house = scaler.transform(single_house.values.reshape(-1,17))"
      ],
      "metadata": {
        "id": "hJL0bYQFm2Ub"
      },
      "execution_count": null,
      "outputs": []
    },
    {
      "cell_type": "code",
      "source": [
        "model.predict(single_house)"
      ],
      "metadata": {
        "id": "8X8IXls_na21"
      },
      "execution_count": null,
      "outputs": []
    },
    {
      "cell_type": "code",
      "source": [
        "df.head(1)"
      ],
      "metadata": {
        "id": "hyd1HNDpnlG8"
      },
      "execution_count": null,
      "outputs": []
    },
    {
      "cell_type": "markdown",
      "source": [
        "The real price is USD 221900 and the model estimates USD 259733"
      ],
      "metadata": {
        "id": "eFWsnkwGnsRa"
      }
    }
  ]
}